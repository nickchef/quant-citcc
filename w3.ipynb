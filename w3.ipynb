{
 "cells": [
  {
   "cell_type": "code",
   "execution_count": 1,
   "id": "c3666c4c-6e6f-4a51-9b57-1c3d3b7a7514",
   "metadata": {},
   "outputs": [],
   "source": [
    "import pandas as pd\n",
    "import numpy as np\n",
    "import torch\n",
    "from sklearn.linear_model import LinearRegression, Lasso, Ridge, ElasticNet\n",
    "import matplotlib.pyplot as plt\n",
    "import seaborn\n",
    "from tqdm.notebook import tqdm\n",
    "import time\n",
    "import gc"
   ]
  },
  {
   "cell_type": "code",
   "execution_count": 2,
   "id": "d3fa4d14-ef8c-428c-930f-c574a89c642e",
   "metadata": {},
   "outputs": [],
   "source": [
    "data = pd.read_csv(\"Workshop_Backtest.csv\")"
   ]
  },
  {
   "cell_type": "code",
   "execution_count": 3,
   "id": "3ef35df6-0fab-434e-b1b3-3447f1fba0fd",
   "metadata": {},
   "outputs": [],
   "source": [
    "def sharpe_ratio(actualReturn, signals):\n",
    "    assert actualReturn.shape == signals.shape\n",
    "    dailyReturns = (actualReturn * signals)\n",
    "    if(dailyReturns.shape[1] > 1):\n",
    "        dailyReturns = dailyReturns.mean(axis=1)\n",
    "    return dailyReturns.mean() / dailyReturns.std() * np.sqrt(240)"
   ]
  },
  {
   "cell_type": "code",
   "execution_count": 4,
   "id": "0253d505-6aef-49c9-81c0-964391d8127f",
   "metadata": {},
   "outputs": [],
   "source": [
    "actual_returns = data[data['datetime'] >= '2017/1/1'].iloc[:, 1:]"
   ]
  },
  {
   "cell_type": "code",
   "execution_count": 27,
   "id": "04142f05-b6e4-4a1d-a6b2-450d101fa143",
   "metadata": {},
   "outputs": [
    {
     "data": {
      "text/html": [
       "<div>\n",
       "<style scoped>\n",
       "    .dataframe tbody tr th:only-of-type {\n",
       "        vertical-align: middle;\n",
       "    }\n",
       "\n",
       "    .dataframe tbody tr th {\n",
       "        vertical-align: top;\n",
       "    }\n",
       "\n",
       "    .dataframe thead th {\n",
       "        text-align: right;\n",
       "    }\n",
       "</style>\n",
       "<table border=\"1\" class=\"dataframe\">\n",
       "  <thead>\n",
       "    <tr style=\"text-align: right;\">\n",
       "      <th></th>\n",
       "      <th>datetime</th>\n",
       "      <th>CF</th>\n",
       "      <th>SR</th>\n",
       "      <th>TA</th>\n",
       "      <th>al</th>\n",
       "      <th>au</th>\n",
       "      <th>c</th>\n",
       "      <th>cu</th>\n",
       "      <th>l</th>\n",
       "      <th>m</th>\n",
       "      <th>p</th>\n",
       "      <th>rb</th>\n",
       "      <th>ru</th>\n",
       "      <th>v</th>\n",
       "      <th>y</th>\n",
       "      <th>zn</th>\n",
       "    </tr>\n",
       "  </thead>\n",
       "  <tbody>\n",
       "    <tr>\n",
       "      <th>0</th>\n",
       "      <td>2010/1/5</td>\n",
       "      <td>0.011700</td>\n",
       "      <td>0.010348</td>\n",
       "      <td>0.011220</td>\n",
       "      <td>0.048953</td>\n",
       "      <td>0.011921</td>\n",
       "      <td>0.012156</td>\n",
       "      <td>0.034943</td>\n",
       "      <td>0.005915</td>\n",
       "      <td>0.011528</td>\n",
       "      <td>0.012012</td>\n",
       "      <td>0.010009</td>\n",
       "      <td>0.028698</td>\n",
       "      <td>0.000648</td>\n",
       "      <td>0.010202</td>\n",
       "      <td>0.041029</td>\n",
       "    </tr>\n",
       "    <tr>\n",
       "      <th>1</th>\n",
       "      <td>2010/1/6</td>\n",
       "      <td>-0.024954</td>\n",
       "      <td>-0.035594</td>\n",
       "      <td>-0.031634</td>\n",
       "      <td>-0.043162</td>\n",
       "      <td>-0.016297</td>\n",
       "      <td>-0.009922</td>\n",
       "      <td>-0.028508</td>\n",
       "      <td>-0.033712</td>\n",
       "      <td>-0.030935</td>\n",
       "      <td>-0.040734</td>\n",
       "      <td>-0.033175</td>\n",
       "      <td>-0.010413</td>\n",
       "      <td>-0.019430</td>\n",
       "      <td>-0.033251</td>\n",
       "      <td>-0.038521</td>\n",
       "    </tr>\n",
       "    <tr>\n",
       "      <th>2</th>\n",
       "      <td>2010/1/7</td>\n",
       "      <td>0.006552</td>\n",
       "      <td>-0.029944</td>\n",
       "      <td>0.007801</td>\n",
       "      <td>0.009022</td>\n",
       "      <td>0.029701</td>\n",
       "      <td>0.015823</td>\n",
       "      <td>0.019672</td>\n",
       "      <td>0.006085</td>\n",
       "      <td>0.005376</td>\n",
       "      <td>0.006187</td>\n",
       "      <td>0.000446</td>\n",
       "      <td>0.018066</td>\n",
       "      <td>-0.004624</td>\n",
       "      <td>0.002293</td>\n",
       "      <td>0.002316</td>\n",
       "    </tr>\n",
       "    <tr>\n",
       "      <th>3</th>\n",
       "      <td>2010/1/8</td>\n",
       "      <td>0.003254</td>\n",
       "      <td>-0.000179</td>\n",
       "      <td>-0.007741</td>\n",
       "      <td>0.013691</td>\n",
       "      <td>-0.005040</td>\n",
       "      <td>-0.006231</td>\n",
       "      <td>-0.009486</td>\n",
       "      <td>-0.000806</td>\n",
       "      <td>-0.011698</td>\n",
       "      <td>-0.015651</td>\n",
       "      <td>0.001782</td>\n",
       "      <td>0.007605</td>\n",
       "      <td>-0.009954</td>\n",
       "      <td>-0.018302</td>\n",
       "      <td>-0.006932</td>\n",
       "    </tr>\n",
       "    <tr>\n",
       "      <th>4</th>\n",
       "      <td>2010/1/11</td>\n",
       "      <td>-0.025361</td>\n",
       "      <td>-0.007719</td>\n",
       "      <td>-0.013896</td>\n",
       "      <td>-0.049063</td>\n",
       "      <td>-0.026535</td>\n",
       "      <td>-0.014107</td>\n",
       "      <td>-0.037981</td>\n",
       "      <td>-0.050040</td>\n",
       "      <td>-0.029422</td>\n",
       "      <td>-0.037763</td>\n",
       "      <td>-0.020231</td>\n",
       "      <td>-0.027869</td>\n",
       "      <td>-0.022788</td>\n",
       "      <td>-0.031072</td>\n",
       "      <td>-0.046999</td>\n",
       "    </tr>\n",
       "    <tr>\n",
       "      <th>...</th>\n",
       "      <td>...</td>\n",
       "      <td>...</td>\n",
       "      <td>...</td>\n",
       "      <td>...</td>\n",
       "      <td>...</td>\n",
       "      <td>...</td>\n",
       "      <td>...</td>\n",
       "      <td>...</td>\n",
       "      <td>...</td>\n",
       "      <td>...</td>\n",
       "      <td>...</td>\n",
       "      <td>...</td>\n",
       "      <td>...</td>\n",
       "      <td>...</td>\n",
       "      <td>...</td>\n",
       "      <td>...</td>\n",
       "    </tr>\n",
       "    <tr>\n",
       "      <th>2785</th>\n",
       "      <td>2021/6/23</td>\n",
       "      <td>0.000945</td>\n",
       "      <td>-0.002906</td>\n",
       "      <td>-0.002797</td>\n",
       "      <td>-0.004259</td>\n",
       "      <td>-0.001391</td>\n",
       "      <td>-0.001161</td>\n",
       "      <td>-0.003336</td>\n",
       "      <td>0.008197</td>\n",
       "      <td>-0.003260</td>\n",
       "      <td>-0.015468</td>\n",
       "      <td>-0.006221</td>\n",
       "      <td>0.006939</td>\n",
       "      <td>-0.013458</td>\n",
       "      <td>-0.012977</td>\n",
       "      <td>-0.001369</td>\n",
       "    </tr>\n",
       "    <tr>\n",
       "      <th>2786</th>\n",
       "      <td>2021/6/24</td>\n",
       "      <td>0.008816</td>\n",
       "      <td>0.008927</td>\n",
       "      <td>0.036859</td>\n",
       "      <td>0.018979</td>\n",
       "      <td>-0.000107</td>\n",
       "      <td>0.002713</td>\n",
       "      <td>0.002329</td>\n",
       "      <td>0.013759</td>\n",
       "      <td>0.010110</td>\n",
       "      <td>0.022112</td>\n",
       "      <td>0.028271</td>\n",
       "      <td>0.007657</td>\n",
       "      <td>0.013642</td>\n",
       "      <td>0.019102</td>\n",
       "      <td>0.002742</td>\n",
       "    </tr>\n",
       "    <tr>\n",
       "      <th>2787</th>\n",
       "      <td>2021/6/25</td>\n",
       "      <td>0.002809</td>\n",
       "      <td>0.000181</td>\n",
       "      <td>0.002318</td>\n",
       "      <td>-0.011280</td>\n",
       "      <td>-0.003323</td>\n",
       "      <td>0.007731</td>\n",
       "      <td>-0.005663</td>\n",
       "      <td>0.016039</td>\n",
       "      <td>0.013247</td>\n",
       "      <td>0.003985</td>\n",
       "      <td>0.006088</td>\n",
       "      <td>-0.003419</td>\n",
       "      <td>0.016969</td>\n",
       "      <td>-0.010224</td>\n",
       "      <td>-0.010255</td>\n",
       "    </tr>\n",
       "    <tr>\n",
       "      <th>2788</th>\n",
       "      <td>2021/6/28</td>\n",
       "      <td>0.000000</td>\n",
       "      <td>0.007222</td>\n",
       "      <td>-0.016962</td>\n",
       "      <td>0.000796</td>\n",
       "      <td>-0.014412</td>\n",
       "      <td>0.002301</td>\n",
       "      <td>-0.007886</td>\n",
       "      <td>-0.006072</td>\n",
       "      <td>0.007844</td>\n",
       "      <td>0.012759</td>\n",
       "      <td>-0.010346</td>\n",
       "      <td>-0.018300</td>\n",
       "      <td>0.001726</td>\n",
       "      <td>0.012051</td>\n",
       "      <td>0.006447</td>\n",
       "    </tr>\n",
       "    <tr>\n",
       "      <th>2789</th>\n",
       "      <td>2021/6/29</td>\n",
       "      <td>-0.003735</td>\n",
       "      <td>0.005377</td>\n",
       "      <td>-0.001176</td>\n",
       "      <td>-0.000530</td>\n",
       "      <td>0.001964</td>\n",
       "      <td>-0.000383</td>\n",
       "      <td>0.015602</td>\n",
       "      <td>0.000611</td>\n",
       "      <td>0.003459</td>\n",
       "      <td>0.010918</td>\n",
       "      <td>0.022880</td>\n",
       "      <td>-0.007767</td>\n",
       "      <td>-0.001723</td>\n",
       "      <td>0.006075</td>\n",
       "      <td>0.012583</td>\n",
       "    </tr>\n",
       "  </tbody>\n",
       "</table>\n",
       "<p>2790 rows × 16 columns</p>\n",
       "</div>"
      ],
      "text/plain": [
       "       datetime        CF        SR        TA        al        au         c  \\\n",
       "0      2010/1/5  0.011700  0.010348  0.011220  0.048953  0.011921  0.012156   \n",
       "1      2010/1/6 -0.024954 -0.035594 -0.031634 -0.043162 -0.016297 -0.009922   \n",
       "2      2010/1/7  0.006552 -0.029944  0.007801  0.009022  0.029701  0.015823   \n",
       "3      2010/1/8  0.003254 -0.000179 -0.007741  0.013691 -0.005040 -0.006231   \n",
       "4     2010/1/11 -0.025361 -0.007719 -0.013896 -0.049063 -0.026535 -0.014107   \n",
       "...         ...       ...       ...       ...       ...       ...       ...   \n",
       "2785  2021/6/23  0.000945 -0.002906 -0.002797 -0.004259 -0.001391 -0.001161   \n",
       "2786  2021/6/24  0.008816  0.008927  0.036859  0.018979 -0.000107  0.002713   \n",
       "2787  2021/6/25  0.002809  0.000181  0.002318 -0.011280 -0.003323  0.007731   \n",
       "2788  2021/6/28  0.000000  0.007222 -0.016962  0.000796 -0.014412  0.002301   \n",
       "2789  2021/6/29 -0.003735  0.005377 -0.001176 -0.000530  0.001964 -0.000383   \n",
       "\n",
       "            cu         l         m         p        rb        ru         v  \\\n",
       "0     0.034943  0.005915  0.011528  0.012012  0.010009  0.028698  0.000648   \n",
       "1    -0.028508 -0.033712 -0.030935 -0.040734 -0.033175 -0.010413 -0.019430   \n",
       "2     0.019672  0.006085  0.005376  0.006187  0.000446  0.018066 -0.004624   \n",
       "3    -0.009486 -0.000806 -0.011698 -0.015651  0.001782  0.007605 -0.009954   \n",
       "4    -0.037981 -0.050040 -0.029422 -0.037763 -0.020231 -0.027869 -0.022788   \n",
       "...        ...       ...       ...       ...       ...       ...       ...   \n",
       "2785 -0.003336  0.008197 -0.003260 -0.015468 -0.006221  0.006939 -0.013458   \n",
       "2786  0.002329  0.013759  0.010110  0.022112  0.028271  0.007657  0.013642   \n",
       "2787 -0.005663  0.016039  0.013247  0.003985  0.006088 -0.003419  0.016969   \n",
       "2788 -0.007886 -0.006072  0.007844  0.012759 -0.010346 -0.018300  0.001726   \n",
       "2789  0.015602  0.000611  0.003459  0.010918  0.022880 -0.007767 -0.001723   \n",
       "\n",
       "             y        zn  \n",
       "0     0.010202  0.041029  \n",
       "1    -0.033251 -0.038521  \n",
       "2     0.002293  0.002316  \n",
       "3    -0.018302 -0.006932  \n",
       "4    -0.031072 -0.046999  \n",
       "...        ...       ...  \n",
       "2785 -0.012977 -0.001369  \n",
       "2786  0.019102  0.002742  \n",
       "2787 -0.010224 -0.010255  \n",
       "2788  0.012051  0.006447  \n",
       "2789  0.006075  0.012583  \n",
       "\n",
       "[2790 rows x 16 columns]"
      ]
     },
     "execution_count": 27,
     "metadata": {},
     "output_type": "execute_result"
    }
   ],
   "source": [
    "data"
   ]
  },
  {
   "cell_type": "code",
   "execution_count": 6,
   "id": "751ae33d-9c83-418d-a716-d0234966285f",
   "metadata": {},
   "outputs": [],
   "source": [
    "# requirement:\n",
    "# get multi-dimensional data\n",
    "# get include other column data\n",
    "# get test data"
   ]
  },
  {
   "cell_type": "code",
   "execution_count": 124,
   "id": "92d6cf20-6555-442a-bcf4-0b671c29ff03",
   "metadata": {},
   "outputs": [],
   "source": [
    "X = data.iloc[:, 1:].values"
   ]
  },
  {
   "cell_type": "code",
   "execution_count": 140,
   "id": "5c5ce9f8-8167-406d-b227-1f68e9c97fa9",
   "metadata": {},
   "outputs": [
    {
     "data": {
      "text/plain": [
       "(2789, 1, 30)"
      ]
     },
     "execution_count": 140,
     "metadata": {},
     "output_type": "execute_result"
    }
   ],
   "source": [
    "stride_array = np.lib.stride_tricks.sliding_window_view(X, (2, 15), axis=(0,1))\n",
    "\n",
    "stride_array = stride_array.reshape(-1, 1, 30)\n",
    "stride_array.shape"
   ]
  },
  {
   "cell_type": "code",
   "execution_count": 141,
   "id": "f6d5c7e2-829f-44fb-87b0-cbb42cac3cc3",
   "metadata": {},
   "outputs": [
    {
     "data": {
      "text/plain": [
       "array([[[ 0.0117  ,  0.010348,  0.01122 ,  0.048953,  0.011921,\n",
       "          0.012156,  0.034943,  0.005915,  0.011528,  0.012012,\n",
       "          0.010009,  0.028698,  0.000648,  0.010202,  0.041029,\n",
       "         -0.024954, -0.035594, -0.031634, -0.043162, -0.016297,\n",
       "         -0.009922, -0.028508, -0.033712, -0.030935, -0.040734,\n",
       "         -0.033175, -0.010413, -0.01943 , -0.033251, -0.038521]],\n",
       "\n",
       "       [[-0.024954, -0.035594, -0.031634, -0.043162, -0.016297,\n",
       "         -0.009922, -0.028508, -0.033712, -0.030935, -0.040734,\n",
       "         -0.033175, -0.010413, -0.01943 , -0.033251, -0.038521,\n",
       "          0.006552, -0.029944,  0.007801,  0.009022,  0.029701,\n",
       "          0.015823,  0.019672,  0.006085,  0.005376,  0.006187,\n",
       "          0.000446,  0.018066, -0.004624,  0.002293,  0.002316]],\n",
       "\n",
       "       [[ 0.006552, -0.029944,  0.007801,  0.009022,  0.029701,\n",
       "          0.015823,  0.019672,  0.006085,  0.005376,  0.006187,\n",
       "          0.000446,  0.018066, -0.004624,  0.002293,  0.002316,\n",
       "          0.003254, -0.000179, -0.007741,  0.013691, -0.00504 ,\n",
       "         -0.006231, -0.009486, -0.000806, -0.011698, -0.015651,\n",
       "          0.001782,  0.007605, -0.009954, -0.018302, -0.006932]]])"
      ]
     },
     "execution_count": 141,
     "metadata": {},
     "output_type": "execute_result"
    }
   ],
   "source": [
    "stride_array[0:3]"
   ]
  },
  {
   "cell_type": "code",
   "execution_count": 145,
   "id": "06b704d3-f78a-4075-8ec7-a1f9df65442e",
   "metadata": {},
   "outputs": [
    {
     "data": {
      "text/plain": [
       "(2787, 1, 1, 3, 30)"
      ]
     },
     "execution_count": 145,
     "metadata": {},
     "output_type": "execute_result"
    }
   ],
   "source": [
    "HDwindow.shape"
   ]
  },
  {
   "cell_type": "code",
   "execution_count": 93,
   "id": "7eb2494b-e0ec-4dd1-9cde-f265c32a5bd1",
   "metadata": {},
   "outputs": [
    {
     "data": {
      "text/plain": [
       "array([[ 0.0117  ,  0.010348,  0.01122 ,  0.048953,  0.011921,  0.012156,\n",
       "         0.034943,  0.005915,  0.011528,  0.012012,  0.010009,  0.028698,\n",
       "         0.000648,  0.010202,  0.041029, -0.024954, -0.035594, -0.031634,\n",
       "        -0.043162, -0.016297, -0.009922, -0.028508, -0.033712, -0.030935,\n",
       "        -0.040734, -0.033175, -0.010413, -0.01943 , -0.033251, -0.038521],\n",
       "       [-0.024954, -0.035594, -0.031634, -0.043162, -0.016297, -0.009922,\n",
       "        -0.028508, -0.033712, -0.030935, -0.040734, -0.033175, -0.010413,\n",
       "        -0.01943 , -0.033251, -0.038521,  0.006552, -0.029944,  0.007801,\n",
       "         0.009022,  0.029701,  0.015823,  0.019672,  0.006085,  0.005376,\n",
       "         0.006187,  0.000446,  0.018066, -0.004624,  0.002293,  0.002316],\n",
       "       [ 0.006552, -0.029944,  0.007801,  0.009022,  0.029701,  0.015823,\n",
       "         0.019672,  0.006085,  0.005376,  0.006187,  0.000446,  0.018066,\n",
       "        -0.004624,  0.002293,  0.002316,  0.003254, -0.000179, -0.007741,\n",
       "         0.013691, -0.00504 , -0.006231, -0.009486, -0.000806, -0.011698,\n",
       "        -0.015651,  0.001782,  0.007605, -0.009954, -0.018302, -0.006932]])"
      ]
     },
     "execution_count": 93,
     "metadata": {},
     "output_type": "execute_result"
    }
   ],
   "source": [
    "HDwindow[0]"
   ]
  },
  {
   "cell_type": "code",
   "execution_count": 94,
   "id": "22c5cb9f-87fd-4ca6-840c-a8be0969690e",
   "metadata": {},
   "outputs": [
    {
     "data": {
      "text/plain": [
       "array([[-0.024954, -0.035594, -0.031634, -0.043162, -0.016297, -0.009922,\n",
       "        -0.028508, -0.033712, -0.030935, -0.040734, -0.033175, -0.010413,\n",
       "        -0.01943 , -0.033251, -0.038521,  0.006552, -0.029944,  0.007801,\n",
       "         0.009022,  0.029701,  0.015823,  0.019672,  0.006085,  0.005376,\n",
       "         0.006187,  0.000446,  0.018066, -0.004624,  0.002293,  0.002316],\n",
       "       [ 0.006552, -0.029944,  0.007801,  0.009022,  0.029701,  0.015823,\n",
       "         0.019672,  0.006085,  0.005376,  0.006187,  0.000446,  0.018066,\n",
       "        -0.004624,  0.002293,  0.002316,  0.003254, -0.000179, -0.007741,\n",
       "         0.013691, -0.00504 , -0.006231, -0.009486, -0.000806, -0.011698,\n",
       "        -0.015651,  0.001782,  0.007605, -0.009954, -0.018302, -0.006932],\n",
       "       [ 0.003254, -0.000179, -0.007741,  0.013691, -0.00504 , -0.006231,\n",
       "        -0.009486, -0.000806, -0.011698, -0.015651,  0.001782,  0.007605,\n",
       "        -0.009954, -0.018302, -0.006932, -0.025361, -0.007719, -0.013896,\n",
       "        -0.049063, -0.026535, -0.014107, -0.037981, -0.05004 , -0.029422,\n",
       "        -0.037763, -0.020231, -0.027869, -0.022788, -0.031072, -0.046999]])"
      ]
     },
     "execution_count": 94,
     "metadata": {},
     "output_type": "execute_result"
    }
   ],
   "source": [
    "HDwindow[1]"
   ]
  },
  {
   "cell_type": "code",
   "execution_count": 108,
   "id": "6f1e2ef7-425c-4a01-83d0-df2f90d20bc2",
   "metadata": {},
   "outputs": [
    {
     "data": {
      "text/plain": [
       "(2781, 10)"
      ]
     },
     "execution_count": 108,
     "metadata": {},
     "output_type": "execute_result"
    }
   ],
   "source": [
    "X = data[\"CF\"]\n",
    "stride_array_single = np.lib.stride_tricks.sliding_window_view(X, 10)\n",
    "stride_array_single.shape"
   ]
  },
  {
   "cell_type": "code",
   "execution_count": 103,
   "id": "c31c8cb8-5b56-4830-a2d1-74ab7786648b",
   "metadata": {},
   "outputs": [
    {
     "data": {
      "text/plain": [
       "array([[ 0.0117  , -0.024954,  0.006552,  0.003254, -0.025361,  0.004236,\n",
       "        -0.00934 , -0.009428,  0.009211, -0.005172],\n",
       "       [-0.024954,  0.006552,  0.003254, -0.025361,  0.004236, -0.00934 ,\n",
       "        -0.009428,  0.009211, -0.005172, -0.020489],\n",
       "       [ 0.006552,  0.003254, -0.025361,  0.004236, -0.00934 , -0.009428,\n",
       "         0.009211, -0.005172, -0.020489,  0.013113]])"
      ]
     },
     "execution_count": 103,
     "metadata": {},
     "output_type": "execute_result"
    }
   ],
   "source": [
    "stride_array_single[:3]"
   ]
  },
  {
   "cell_type": "code",
   "execution_count": 104,
   "id": "19b4645b-26ff-4ba7-b9c5-7a153ac09ef9",
   "metadata": {},
   "outputs": [
    {
     "data": {
      "text/plain": [
       "(2777, 5, 10)"
      ]
     },
     "execution_count": 104,
     "metadata": {},
     "output_type": "execute_result"
    }
   ],
   "source": [
    "window_array_single = np.lib.stride_tricks.sliding_window_view(stride_array_single, (5, 10), axis=(0, 1))\n",
    "window_array_single = window_array_single.reshape(-1, 5, 10)\n",
    "window_array_single.shape"
   ]
  },
  {
   "cell_type": "code",
   "execution_count": 105,
   "id": "d5f0f891-c206-4997-97d8-ebb6888221ff",
   "metadata": {},
   "outputs": [
    {
     "data": {
      "text/plain": [
       "array([[ 0.0117  , -0.024954,  0.006552,  0.003254, -0.025361,  0.004236,\n",
       "        -0.00934 , -0.009428,  0.009211, -0.005172],\n",
       "       [-0.024954,  0.006552,  0.003254, -0.025361,  0.004236, -0.00934 ,\n",
       "        -0.009428,  0.009211, -0.005172, -0.020489],\n",
       "       [ 0.006552,  0.003254, -0.025361,  0.004236, -0.00934 , -0.009428,\n",
       "         0.009211, -0.005172, -0.020489,  0.013113],\n",
       "       [ 0.003254, -0.025361,  0.004236, -0.00934 , -0.009428,  0.009211,\n",
       "        -0.005172, -0.020489,  0.013113, -0.000616],\n",
       "       [-0.025361,  0.004236, -0.00934 , -0.009428,  0.009211, -0.005172,\n",
       "        -0.020489,  0.013113, -0.000616, -0.006167]])"
      ]
     },
     "execution_count": 105,
     "metadata": {},
     "output_type": "execute_result"
    }
   ],
   "source": [
    "window_array_single[0]"
   ]
  },
  {
   "cell_type": "code",
   "execution_count": 106,
   "id": "f0ae72b0-4868-45b5-9b83-d52ddabfc2f3",
   "metadata": {},
   "outputs": [
    {
     "data": {
      "text/plain": [
       "array([[-0.024954,  0.006552,  0.003254, -0.025361,  0.004236, -0.00934 ,\n",
       "        -0.009428,  0.009211, -0.005172, -0.020489],\n",
       "       [ 0.006552,  0.003254, -0.025361,  0.004236, -0.00934 , -0.009428,\n",
       "         0.009211, -0.005172, -0.020489,  0.013113],\n",
       "       [ 0.003254, -0.025361,  0.004236, -0.00934 , -0.009428,  0.009211,\n",
       "        -0.005172, -0.020489,  0.013113, -0.000616],\n",
       "       [-0.025361,  0.004236, -0.00934 , -0.009428,  0.009211, -0.005172,\n",
       "        -0.020489,  0.013113, -0.000616, -0.006167],\n",
       "       [ 0.004236, -0.00934 , -0.009428,  0.009211, -0.005172, -0.020489,\n",
       "         0.013113, -0.000616, -0.006167, -0.010549]])"
      ]
     },
     "execution_count": 106,
     "metadata": {},
     "output_type": "execute_result"
    }
   ],
   "source": [
    "window_array_single[1]"
   ]
  },
  {
   "cell_type": "code",
   "execution_count": 152,
   "id": "7f369270-5e0e-4083-9bc3-118fa83235ce",
   "metadata": {},
   "outputs": [],
   "source": [
    "class SequenceDataLoader:\n",
    "    def __init__(self, df, date_from, window_size, feature_size, include_other, col_name):\n",
    "        \n",
    "        self.feature_size = feature_size\n",
    "        offset = window_size + feature_size\n",
    "        bt_index = df[df['datetime'] >= date_from].iloc[0].name - offset\n",
    "        # max_window_size = df[df['datetime'] >= date_from].iloc[0].name - 1\n",
    "        self.window_size = window_size\n",
    "        columns = len(df.columns) - 1\n",
    "\n",
    "        if include_other:\n",
    "            sample_shape = (feature_size, columns)\n",
    "            self.X = np.lib.stride_tricks.sliding_window_view(df.iloc[bt_index:, 1:].values, sample_shape, axis=(0,1)) # (nFeature, sFeature, sCol)\n",
    "            self.X = self.X.reshape(-1, columns * feature_size) # (nFeature, sFeature * sCol)\n",
    "            window_shape = (-1, window_size, feature_size*columns)\n",
    "            self.X = self.X = np.lib.stride_tricks.sliding_window_view(self.X, window_shape[1:], axis=(0,1)) # (nWindow, nFeature, sWindow)\n",
    "            self.X = self.X.reshape(window_shape) # (nWindow, nFeatures, sFeature * sCol)\n",
    "        else:\n",
    "            window_shape = (-1, window_size, feature_size)\n",
    "            self.X = np.lib.stride_tricks.sliding_window_view(df[col_name].iloc[bt_index:].values, feature_size) # (nWindow, sFeature)\n",
    "            self.X = np.lib.stride_tricks.sliding_window_view(self.X, window_shape[1:], axis=(0,1)) # (nWindow, sWindow, sFeature)\n",
    "            self.X = self.X.reshape(window_shape)\n",
    "            \n",
    "        self.y = np.lib.stride_tricks.sliding_window_view(df[col_name].iloc[bt_index+feature_size:].values, window_size)\n",
    "        \n",
    "    def __len__(self):\n",
    "        return self.y.shape[0] - 1\n",
    "    \n",
    "    def __getitem__(self, index):\n",
    "        return self.X[index], self.y[index], self.X[index+1][-1].reshape(1, -1)\n",
    "    \n",
    "#     def _get_include_other(self, index):\n",
    "    \n",
    "#     def _get_single_col(self, index):\n",
    "#         window_train_X = []\n",
    "\n",
    "#         actual_window_size = self.window_size if self.window_size <= self.bt_index + index else self.bt_index + index # \n",
    "#         window_begin_index = self.bt_index + index - actual_window_size\n",
    "#         actual_feature_size = self.feature_size if self.feature_size < actual_window_size else actual_window_size - 1\n",
    "#         actual_sample_num = actual_window_size - actual_feature_size\n",
    "\n",
    "#         for s in range(actual_sample_num):\n",
    "#             window_train_X.append(self.X[window_begin_index + s: window_begin_index + actual_feature_size + s])\n",
    "#         window_train_X = np.array(window_train_X)\n",
    "#         if self.require_2d:\n",
    "#             window_train_X = window_train_X.reshape(window_train_X.shape[0], -1)\n",
    "#         window_train_y = self.y[window_begin_index + actual_feature_size: window_begin_index + actual_window_size].reshape(-1, 1)\n",
    "\n",
    "#         window_test_X = self.X[window_begin_index + actual_sample_num: window_begin_index + actual_window_size]\n",
    "#         if self.require_2d or len(window_test_X.shape) == 1:\n",
    "#             window_test_X = window_test_X.reshape(1, -1)\n",
    "#         window_test_y = self.y[window_begin_index + actual_window_size]\n",
    "        \n",
    "#         return window_train_X, window_train_y, window_test_X, window_test_y"
   ]
  },
  {
   "cell_type": "code",
   "execution_count": 116,
   "id": "9126b6e8-81d5-44f6-b3db-3e2d09e04af7",
   "metadata": {},
   "outputs": [],
   "source": [
    "seq = SequenceDataLoader(data, date_from='2017/1/1', window_size=20, feature_size=10, include_other=True, col_name=\"CF\")"
   ]
  },
  {
   "cell_type": "code",
   "execution_count": 118,
   "id": "9192fc12-776b-4049-827f-19dfe11bb169",
   "metadata": {},
   "outputs": [],
   "source": [
    "x, y, tx = seq[0]"
   ]
  },
  {
   "cell_type": "code",
   "execution_count": 134,
   "id": "fa433fe8-1073-4e8c-89d2-8b638e32b9fe",
   "metadata": {},
   "outputs": [
    {
     "data": {
      "text/plain": [
       "(150,)"
      ]
     },
     "execution_count": 134,
     "metadata": {},
     "output_type": "execute_result"
    }
   ],
   "source": [
    "tx.shape"
   ]
  },
  {
   "cell_type": "code",
   "execution_count": 8,
   "id": "bf596f8d-4a12-4ba9-a833-fe1f1e0e6214",
   "metadata": {},
   "outputs": [],
   "source": [
    "# def get_data(df, date_from, window_size, feature_size, include_other, col_name, require_2D=False):\n",
    "#     bt_index = df[df['datetime'] >= date_from].iloc[0].name\n",
    "#     sample_num = window_size - feature_size\n",
    "#     window_num = len(df[df['datetime'] >= date_from])\n",
    "    \n",
    "#     train_X = []\n",
    "#     train_y = []\n",
    "#     test_X = []\n",
    "#     test_y = []\n",
    "    \n",
    "#     X = df.iloc[:, 1:].to_numpy() if include_other else df[col_name].to_numpy()\n",
    "#     y = df[col_name].to_numpy()\n",
    "    \n",
    "\n",
    "#     for w in range(window_num):\n",
    "#         window_train_X = []\n",
    "\n",
    "#         actual_window_size = window_size if window_size <= bt_index + w else bt_index + w # \n",
    "#         window_begin_index = bt_index + w - actual_window_size\n",
    "#         actual_feature_size = feature_size if feature_size < actual_window_size else actual_window_size - 1\n",
    "#         actual_sample_num = actual_window_size - actual_feature_size\n",
    "\n",
    "#         for s in range(actual_sample_num):\n",
    "#             window_train_X.append(X[window_begin_index + s: window_begin_index + actual_feature_size + s])\n",
    "#         window_train_X = np.array(window_train_X)\n",
    "        \n",
    "#         if require_2D:\n",
    "#             window_train_X = window_train_X.reshape(window_train_X.shape[0], -1)\n",
    "        \n",
    "#         window_train_y = y[window_begin_index + actual_feature_size: window_begin_index + actual_window_size].reshape(-1, 1)\n",
    "\n",
    "#         window_test_X = X[window_begin_index + actual_sample_num: window_begin_index + actual_window_size].reshape(1, -1)\n",
    "#         if require_2D or len(window_test_X.shape) == 1:\n",
    "#             window_test_X = window_test_X.reshape(1, -1)\n",
    "#         window_test_y = y[window_begin_index + actual_window_size]\n",
    "\n",
    "#         train_X.append(window_train_X)\n",
    "#         train_y.append(window_train_y)\n",
    "#         test_X.append(window_test_X)\n",
    "#         test_y.append(window_test_y)\n",
    "\n",
    "#     return train_X, train_y, test_X, test_y"
   ]
  },
  {
   "cell_type": "code",
   "execution_count": 132,
   "id": "3bee2fbb-ddbe-4763-a378-0ea75fe704cf",
   "metadata": {},
   "outputs": [],
   "source": [
    "def evaluate_loader(estimator, data, date_from, window_size, feature_size, include_other):\n",
    "    signal = np.zeros_like(actual_returns)\n",
    "    for col_idx, col_name in enumerate(actual_returns.columns):\n",
    "        dataLoader = SequenceDataLoader(data, date_from, window_size, feature_size, include_other, col_name)\n",
    "        col_signal = np.zeros((len(signal)))\n",
    "        for i in range(len(dataLoader)):\n",
    "            train_X, train_y, test_X = dataLoader[i]\n",
    "            estimator.fit(train_X, train_y)\n",
    "            col_signal[i] = estimator.predict(test_X)\n",
    "        signal[:,col_idx] = col_signal\n",
    "    signal = np.where(signal > 0, 1, -1)\n",
    "    return sharpe_ratio(actual_returns, signal)"
   ]
  },
  {
   "cell_type": "code",
   "execution_count": 10,
   "id": "28815bc2-e9c3-41b1-85d3-8ce9a54ddbb9",
   "metadata": {},
   "outputs": [],
   "source": [
    "# def evaluate(estimator, data_arrays):\n",
    "#     # start_all = time.time()\n",
    "#     signal = np.zeros_like(actual_returns)\n",
    "#     # fit_time = []\n",
    "#     # round_time = []\n",
    "#     for col_idx, col_name in enumerate(actual_returns.columns):\n",
    "#         # round_begin = time.time()\n",
    "#         train_X, train_y, test_X, test_y = data_arrays[col_idx]\n",
    "#         col_signal = np.zeros((len(signal)))\n",
    "#         for i in range(len(test_y)):\n",
    "#             # fit_begin = time.time()\n",
    "#             estimator.fit(train_X[i], train_y[i])\n",
    "#             col_signal[i] = estimator.predict(test_X[i])\n",
    "#             # fit_end = time.time()\n",
    "#             # fit_time.append(fit_end-fit_begin)\n",
    "#         signal[:,col_idx] = col_signal\n",
    "#         # round_end = time.time()\n",
    "#         # round_time.append(round_end-round_begin)\n",
    "#     signal = np.where(signal > 0, 1, -1)\n",
    "#     # end_all = time.time()\n",
    "#     # print(f\"all time {end_all-start_all}, round time {np.mean(round_time)}, fit time {np.mean(fit_time)}\")\n",
    "#     return sharpe_ratio(actual_returns, signal)"
   ]
  },
  {
   "cell_type": "code",
   "execution_count": 11,
   "id": "202d8306-44ff-4b44-a985-11316f0880da",
   "metadata": {},
   "outputs": [],
   "source": [
    "# start = time.time()\n",
    "# data_array = []\n",
    "# for i in actual_returns.columns:\n",
    "#     data_array.append(get_data(data, '2017/1/1', 450, 1, False, i))\n",
    "# end = time.time()\n",
    "# print(end-start)"
   ]
  },
  {
   "cell_type": "code",
   "execution_count": 12,
   "id": "198e0898-55dd-4fba-8d05-b10586f5f177",
   "metadata": {},
   "outputs": [],
   "source": [
    "# evaluate(LinearRegression(), data_array)"
   ]
  },
  {
   "cell_type": "code",
   "execution_count": 13,
   "id": "d51df2df-d15d-4b85-99f3-c9c8b3b2b32d",
   "metadata": {},
   "outputs": [],
   "source": [
    "# evaluate(LinearRegression(), data, '2017/1/1', 450, 1, False)"
   ]
  },
  {
   "cell_type": "code",
   "execution_count": 14,
   "id": "55c47428-5f4a-46ce-9e57-ccba950da3c7",
   "metadata": {},
   "outputs": [],
   "source": [
    "# # param:\n",
    "# #   window size\n",
    "# #   feature size\n",
    "# #   include other?\n",
    "# #   L1, L2\n",
    "# #   \n",
    "# perf = {}\n",
    "# date_from = '2017/1/1'\n",
    "# for window_size in tqdm(range(20, len(data), 50), position=0, leave=False): # window_size\n",
    "#     perf[window_size] = {}\n",
    "#     for feature_size in tqdm(range(1, window_size, 10),position=1, leave=False): # feature_size\n",
    "#         perf[window_size][feature_size] = {}\n",
    "#         for include_other in tqdm((True, False),position=2, leave=False):\n",
    "#             include_other_name = \"T\" if include_other else \"F\"\n",
    "#             data_arrays = []\n",
    "#             for col in actual_returns.columns:\n",
    "#                 data_arrays.append(get_data(data, date_from, ))\n",
    "#             perf[window_size][feature_size][include_other_name] = {}\n",
    "#             perf[window_size][feature_size][include_other_name][\"None\"] = evaluate(LinearRegression(), data, date_from, window_size, feature_size, include_other, require_2D=True)\n",
    "#             perf[window_size][feature_size][include_other_name][\"L1\"] = {}\n",
    "#             for i in tqdm(range(5),position=3, leave=False):\n",
    "#                 c = 10 ** (-i)\n",
    "#                 perf[window_size][feature_size][include_other_name][\"L1\"][c] = evaluate(Lasso(alpha=c), data, date_from, window_size, feature_size, include_other, require_2D=True)\n",
    "                \n",
    "#             perf[window_size][feature_size][include_other_name][\"L2\"] = {}\n",
    "#             for i in tqdm(range(5),position=4, leave=False):\n",
    "#                 c = 10 ** (-i)\n",
    "#                 perf[window_size][feature_size][include_other_name][\"L2\"][c] = evaluate(Ridge(alpha=c), data, date_from, window_size, feature_size, include_other, require_2D=True)"
   ]
  },
  {
   "cell_type": "code",
   "execution_count": 155,
   "id": "1512c83f-1ceb-4f4c-9183-5e0d4c434049",
   "metadata": {},
   "outputs": [
    {
     "data": {
      "text/plain": [
       "1.8155104487733784"
      ]
     },
     "execution_count": 155,
     "metadata": {},
     "output_type": "execute_result"
    }
   ],
   "source": [
    "evaluate_loader(LinearRegression(n_jobs=-1), data, '2017/1/1', 1500, 1, True)"
   ]
  },
  {
   "cell_type": "code",
   "execution_count": 154,
   "id": "ca06026e-c2d3-4005-997b-f7cdd5f493b0",
   "metadata": {
    "tags": []
   },
   "outputs": [
    {
     "data": {
      "application/vnd.jupyter.widget-view+json": {
       "model_id": "ea3035a93d8b43fd8a7d4db986dc9361",
       "version_major": 2,
       "version_minor": 0
      },
      "text/plain": [
       "  0%|          | 0/17 [00:00<?, ?it/s]"
      ]
     },
     "metadata": {},
     "output_type": "display_data"
    },
    {
     "data": {
      "application/vnd.jupyter.widget-view+json": {
       "model_id": "",
       "version_major": 2,
       "version_minor": 0
      },
      "text/plain": [
       "  0%|          | 0/5 [00:00<?, ?it/s]"
      ]
     },
     "metadata": {},
     "output_type": "display_data"
    },
    {
     "data": {
      "application/vnd.jupyter.widget-view+json": {
       "model_id": "",
       "version_major": 2,
       "version_minor": 0
      },
      "text/plain": [
       "  0%|          | 0/2 [00:00<?, ?it/s]"
      ]
     },
     "metadata": {},
     "output_type": "display_data"
    },
    {
     "name": "stdout",
     "output_type": "stream",
     "text": [
      "20 1 True 0.4183074416588965\n",
      "20 1 False 0.2793429335746856\n"
     ]
    },
    {
     "data": {
      "application/vnd.jupyter.widget-view+json": {
       "model_id": "",
       "version_major": 2,
       "version_minor": 0
      },
      "text/plain": [
       "  0%|          | 0/2 [00:00<?, ?it/s]"
      ]
     },
     "metadata": {},
     "output_type": "display_data"
    },
    {
     "name": "stdout",
     "output_type": "stream",
     "text": [
      "20 5 True 0.001970612567856043\n",
      "20 5 False -0.3571384871145669\n"
     ]
    },
    {
     "data": {
      "application/vnd.jupyter.widget-view+json": {
       "model_id": "",
       "version_major": 2,
       "version_minor": 0
      },
      "text/plain": [
       "  0%|          | 0/2 [00:00<?, ?it/s]"
      ]
     },
     "metadata": {},
     "output_type": "display_data"
    },
    {
     "name": "stdout",
     "output_type": "stream",
     "text": [
      "20 9 True 0.7244231498887432\n",
      "20 9 False 0.356124539725068\n"
     ]
    },
    {
     "data": {
      "application/vnd.jupyter.widget-view+json": {
       "model_id": "",
       "version_major": 2,
       "version_minor": 0
      },
      "text/plain": [
       "  0%|          | 0/2 [00:00<?, ?it/s]"
      ]
     },
     "metadata": {},
     "output_type": "display_data"
    },
    {
     "name": "stdout",
     "output_type": "stream",
     "text": [
      "20 13 True 0.5196672105008787\n",
      "20 13 False -0.5175758283167443\n"
     ]
    },
    {
     "data": {
      "application/vnd.jupyter.widget-view+json": {
       "model_id": "",
       "version_major": 2,
       "version_minor": 0
      },
      "text/plain": [
       "  0%|          | 0/2 [00:00<?, ?it/s]"
      ]
     },
     "metadata": {},
     "output_type": "display_data"
    },
    {
     "name": "stdout",
     "output_type": "stream",
     "text": [
      "20 17 True 0.46950754557323104\n",
      "20 17 False -0.39519925126382066\n"
     ]
    },
    {
     "data": {
      "application/vnd.jupyter.widget-view+json": {
       "model_id": "",
       "version_major": 2,
       "version_minor": 0
      },
      "text/plain": [
       "  0%|          | 0/5 [00:00<?, ?it/s]"
      ]
     },
     "metadata": {},
     "output_type": "display_data"
    },
    {
     "data": {
      "application/vnd.jupyter.widget-view+json": {
       "model_id": "",
       "version_major": 2,
       "version_minor": 0
      },
      "text/plain": [
       "  0%|          | 0/2 [00:00<?, ?it/s]"
      ]
     },
     "metadata": {},
     "output_type": "display_data"
    },
    {
     "name": "stdout",
     "output_type": "stream",
     "text": [
      "120 1 True 0.16393440403900728\n",
      "120 1 False 0.3621974212063328\n"
     ]
    },
    {
     "data": {
      "application/vnd.jupyter.widget-view+json": {
       "model_id": "",
       "version_major": 2,
       "version_minor": 0
      },
      "text/plain": [
       "  0%|          | 0/2 [00:00<?, ?it/s]"
      ]
     },
     "metadata": {},
     "output_type": "display_data"
    },
    {
     "name": "stdout",
     "output_type": "stream",
     "text": [
      "120 25 True 0.649863321759965\n",
      "120 25 False 0.4813452590469126\n"
     ]
    },
    {
     "data": {
      "application/vnd.jupyter.widget-view+json": {
       "model_id": "",
       "version_major": 2,
       "version_minor": 0
      },
      "text/plain": [
       "  0%|          | 0/2 [00:00<?, ?it/s]"
      ]
     },
     "metadata": {},
     "output_type": "display_data"
    },
    {
     "name": "stdout",
     "output_type": "stream",
     "text": [
      "120 49 True 0.2327943130616561\n",
      "120 49 False -0.13483594251217912\n"
     ]
    },
    {
     "data": {
      "application/vnd.jupyter.widget-view+json": {
       "model_id": "",
       "version_major": 2,
       "version_minor": 0
      },
      "text/plain": [
       "  0%|          | 0/2 [00:00<?, ?it/s]"
      ]
     },
     "metadata": {},
     "output_type": "display_data"
    },
    {
     "name": "stdout",
     "output_type": "stream",
     "text": [
      "120 73 True 0.01893373581414685\n",
      "120 73 False -0.8631457671437897\n"
     ]
    },
    {
     "data": {
      "application/vnd.jupyter.widget-view+json": {
       "model_id": "",
       "version_major": 2,
       "version_minor": 0
      },
      "text/plain": [
       "  0%|          | 0/2 [00:00<?, ?it/s]"
      ]
     },
     "metadata": {},
     "output_type": "display_data"
    },
    {
     "name": "stdout",
     "output_type": "stream",
     "text": [
      "120 97 True 0.2518192125922907\n",
      "120 97 False -0.5779448269048526\n"
     ]
    },
    {
     "data": {
      "application/vnd.jupyter.widget-view+json": {
       "model_id": "",
       "version_major": 2,
       "version_minor": 0
      },
      "text/plain": [
       "  0%|          | 0/5 [00:00<?, ?it/s]"
      ]
     },
     "metadata": {},
     "output_type": "display_data"
    },
    {
     "data": {
      "application/vnd.jupyter.widget-view+json": {
       "model_id": "",
       "version_major": 2,
       "version_minor": 0
      },
      "text/plain": [
       "  0%|          | 0/2 [00:00<?, ?it/s]"
      ]
     },
     "metadata": {},
     "output_type": "display_data"
    },
    {
     "name": "stdout",
     "output_type": "stream",
     "text": [
      "220 1 True 1.1245121348098372\n",
      "220 1 False 0.6079379064289578\n"
     ]
    },
    {
     "data": {
      "application/vnd.jupyter.widget-view+json": {
       "model_id": "",
       "version_major": 2,
       "version_minor": 0
      },
      "text/plain": [
       "  0%|          | 0/2 [00:00<?, ?it/s]"
      ]
     },
     "metadata": {},
     "output_type": "display_data"
    },
    {
     "name": "stdout",
     "output_type": "stream",
     "text": [
      "220 45 True 0.3893515126809338\n",
      "220 45 False 3.2553096158714344e-05\n"
     ]
    },
    {
     "data": {
      "application/vnd.jupyter.widget-view+json": {
       "model_id": "",
       "version_major": 2,
       "version_minor": 0
      },
      "text/plain": [
       "  0%|          | 0/2 [00:00<?, ?it/s]"
      ]
     },
     "metadata": {},
     "output_type": "display_data"
    },
    {
     "name": "stdout",
     "output_type": "stream",
     "text": [
      "220 89 True 0.520864971103561\n",
      "220 89 False -0.8091705875496665\n"
     ]
    },
    {
     "data": {
      "application/vnd.jupyter.widget-view+json": {
       "model_id": "",
       "version_major": 2,
       "version_minor": 0
      },
      "text/plain": [
       "  0%|          | 0/2 [00:00<?, ?it/s]"
      ]
     },
     "metadata": {},
     "output_type": "display_data"
    },
    {
     "name": "stdout",
     "output_type": "stream",
     "text": [
      "220 133 True -0.0686378616227746\n",
      "220 133 False -0.5905318796425928\n"
     ]
    },
    {
     "data": {
      "application/vnd.jupyter.widget-view+json": {
       "model_id": "",
       "version_major": 2,
       "version_minor": 0
      },
      "text/plain": [
       "  0%|          | 0/2 [00:00<?, ?it/s]"
      ]
     },
     "metadata": {},
     "output_type": "display_data"
    },
    {
     "name": "stdout",
     "output_type": "stream",
     "text": [
      "220 177 True -0.5941330744917603\n",
      "220 177 False -0.09537779240558363\n"
     ]
    },
    {
     "data": {
      "application/vnd.jupyter.widget-view+json": {
       "model_id": "",
       "version_major": 2,
       "version_minor": 0
      },
      "text/plain": [
       "  0%|          | 0/5 [00:00<?, ?it/s]"
      ]
     },
     "metadata": {},
     "output_type": "display_data"
    },
    {
     "data": {
      "application/vnd.jupyter.widget-view+json": {
       "model_id": "",
       "version_major": 2,
       "version_minor": 0
      },
      "text/plain": [
       "  0%|          | 0/2 [00:00<?, ?it/s]"
      ]
     },
     "metadata": {},
     "output_type": "display_data"
    },
    {
     "name": "stdout",
     "output_type": "stream",
     "text": [
      "320 1 True 1.1013867149463357\n",
      "320 1 False 0.5149638136947313\n"
     ]
    },
    {
     "data": {
      "application/vnd.jupyter.widget-view+json": {
       "model_id": "",
       "version_major": 2,
       "version_minor": 0
      },
      "text/plain": [
       "  0%|          | 0/2 [00:00<?, ?it/s]"
      ]
     },
     "metadata": {},
     "output_type": "display_data"
    },
    {
     "name": "stdout",
     "output_type": "stream",
     "text": [
      "320 65 True 0.5990285235784686\n",
      "320 65 False -0.3679809225189313\n"
     ]
    },
    {
     "data": {
      "application/vnd.jupyter.widget-view+json": {
       "model_id": "",
       "version_major": 2,
       "version_minor": 0
      },
      "text/plain": [
       "  0%|          | 0/2 [00:00<?, ?it/s]"
      ]
     },
     "metadata": {},
     "output_type": "display_data"
    },
    {
     "name": "stdout",
     "output_type": "stream",
     "text": [
      "320 129 True -0.6701518975957211\n",
      "320 129 False -0.4447814674498815\n"
     ]
    },
    {
     "data": {
      "application/vnd.jupyter.widget-view+json": {
       "model_id": "",
       "version_major": 2,
       "version_minor": 0
      },
      "text/plain": [
       "  0%|          | 0/2 [00:00<?, ?it/s]"
      ]
     },
     "metadata": {},
     "output_type": "display_data"
    },
    {
     "name": "stdout",
     "output_type": "stream",
     "text": [
      "320 193 True -1.2365182868528524\n",
      "320 193 False 0.09681602177190594\n"
     ]
    },
    {
     "data": {
      "application/vnd.jupyter.widget-view+json": {
       "model_id": "",
       "version_major": 2,
       "version_minor": 0
      },
      "text/plain": [
       "  0%|          | 0/2 [00:00<?, ?it/s]"
      ]
     },
     "metadata": {},
     "output_type": "display_data"
    },
    {
     "name": "stdout",
     "output_type": "stream",
     "text": [
      "320 257 True -0.3114962022388775\n",
      "320 257 False 0.12565916797707752\n"
     ]
    },
    {
     "data": {
      "application/vnd.jupyter.widget-view+json": {
       "model_id": "",
       "version_major": 2,
       "version_minor": 0
      },
      "text/plain": [
       "  0%|          | 0/5 [00:00<?, ?it/s]"
      ]
     },
     "metadata": {},
     "output_type": "display_data"
    },
    {
     "data": {
      "application/vnd.jupyter.widget-view+json": {
       "model_id": "",
       "version_major": 2,
       "version_minor": 0
      },
      "text/plain": [
       "  0%|          | 0/2 [00:00<?, ?it/s]"
      ]
     },
     "metadata": {},
     "output_type": "display_data"
    },
    {
     "name": "stdout",
     "output_type": "stream",
     "text": [
      "420 1 True 0.9737314188988818\n",
      "420 1 False 0.6205677459310573\n"
     ]
    },
    {
     "data": {
      "application/vnd.jupyter.widget-view+json": {
       "model_id": "",
       "version_major": 2,
       "version_minor": 0
      },
      "text/plain": [
       "  0%|          | 0/2 [00:00<?, ?it/s]"
      ]
     },
     "metadata": {},
     "output_type": "display_data"
    },
    {
     "name": "stdout",
     "output_type": "stream",
     "text": [
      "420 85 True -0.23900840118619573\n",
      "420 85 False -0.3083095874404663\n"
     ]
    },
    {
     "data": {
      "application/vnd.jupyter.widget-view+json": {
       "model_id": "",
       "version_major": 2,
       "version_minor": 0
      },
      "text/plain": [
       "  0%|          | 0/2 [00:00<?, ?it/s]"
      ]
     },
     "metadata": {},
     "output_type": "display_data"
    },
    {
     "name": "stdout",
     "output_type": "stream",
     "text": [
      "420 169 True -1.5272602505373485\n",
      "420 169 False -0.3255643685124339\n"
     ]
    },
    {
     "data": {
      "application/vnd.jupyter.widget-view+json": {
       "model_id": "",
       "version_major": 2,
       "version_minor": 0
      },
      "text/plain": [
       "  0%|          | 0/2 [00:00<?, ?it/s]"
      ]
     },
     "metadata": {},
     "output_type": "display_data"
    },
    {
     "name": "stdout",
     "output_type": "stream",
     "text": [
      "420 253 True -0.9493214420197787\n",
      "420 253 False -0.4495637445438915\n"
     ]
    },
    {
     "data": {
      "application/vnd.jupyter.widget-view+json": {
       "model_id": "",
       "version_major": 2,
       "version_minor": 0
      },
      "text/plain": [
       "  0%|          | 0/2 [00:00<?, ?it/s]"
      ]
     },
     "metadata": {},
     "output_type": "display_data"
    },
    {
     "name": "stdout",
     "output_type": "stream",
     "text": [
      "420 337 True -0.8860643499783846\n",
      "420 337 False 0.2433462496739627\n"
     ]
    },
    {
     "data": {
      "application/vnd.jupyter.widget-view+json": {
       "model_id": "",
       "version_major": 2,
       "version_minor": 0
      },
      "text/plain": [
       "  0%|          | 0/5 [00:00<?, ?it/s]"
      ]
     },
     "metadata": {},
     "output_type": "display_data"
    },
    {
     "data": {
      "application/vnd.jupyter.widget-view+json": {
       "model_id": "",
       "version_major": 2,
       "version_minor": 0
      },
      "text/plain": [
       "  0%|          | 0/2 [00:00<?, ?it/s]"
      ]
     },
     "metadata": {},
     "output_type": "display_data"
    },
    {
     "name": "stdout",
     "output_type": "stream",
     "text": [
      "520 1 True 0.7730575382063822\n",
      "520 1 False 0.43795037026503536\n"
     ]
    },
    {
     "data": {
      "application/vnd.jupyter.widget-view+json": {
       "model_id": "",
       "version_major": 2,
       "version_minor": 0
      },
      "text/plain": [
       "  0%|          | 0/2 [00:00<?, ?it/s]"
      ]
     },
     "metadata": {},
     "output_type": "display_data"
    },
    {
     "name": "stdout",
     "output_type": "stream",
     "text": [
      "520 105 True -0.5647885085400781\n",
      "520 105 False -0.4054649808302586\n"
     ]
    },
    {
     "data": {
      "application/vnd.jupyter.widget-view+json": {
       "model_id": "",
       "version_major": 2,
       "version_minor": 0
      },
      "text/plain": [
       "  0%|          | 0/2 [00:00<?, ?it/s]"
      ]
     },
     "metadata": {},
     "output_type": "display_data"
    },
    {
     "name": "stdout",
     "output_type": "stream",
     "text": [
      "520 209 True -1.4827723795877696\n",
      "520 209 False -0.7176910795860243\n"
     ]
    },
    {
     "data": {
      "application/vnd.jupyter.widget-view+json": {
       "model_id": "",
       "version_major": 2,
       "version_minor": 0
      },
      "text/plain": [
       "  0%|          | 0/2 [00:00<?, ?it/s]"
      ]
     },
     "metadata": {},
     "output_type": "display_data"
    },
    {
     "name": "stdout",
     "output_type": "stream",
     "text": [
      "520 313 True -1.0623781518652085\n",
      "520 313 False -0.8652304199159835\n"
     ]
    },
    {
     "data": {
      "application/vnd.jupyter.widget-view+json": {
       "model_id": "",
       "version_major": 2,
       "version_minor": 0
      },
      "text/plain": [
       "  0%|          | 0/2 [00:00<?, ?it/s]"
      ]
     },
     "metadata": {},
     "output_type": "display_data"
    },
    {
     "name": "stdout",
     "output_type": "stream",
     "text": [
      "520 417 True -0.7912510035228278\n",
      "520 417 False -0.37667763755781997\n"
     ]
    },
    {
     "data": {
      "application/vnd.jupyter.widget-view+json": {
       "model_id": "5cc31db19e804f41846f45658d2206f5",
       "version_major": 2,
       "version_minor": 0
      },
      "text/plain": [
       "  0%|          | 0/5 [00:00<?, ?it/s]"
      ]
     },
     "metadata": {},
     "output_type": "display_data"
    },
    {
     "data": {
      "application/vnd.jupyter.widget-view+json": {
       "model_id": "",
       "version_major": 2,
       "version_minor": 0
      },
      "text/plain": [
       "  0%|          | 0/2 [00:00<?, ?it/s]"
      ]
     },
     "metadata": {},
     "output_type": "display_data"
    },
    {
     "name": "stdout",
     "output_type": "stream",
     "text": [
      "620 1 True 1.1992526873694003\n",
      "620 1 False 0.2943264267809084\n"
     ]
    },
    {
     "data": {
      "application/vnd.jupyter.widget-view+json": {
       "model_id": "",
       "version_major": 2,
       "version_minor": 0
      },
      "text/plain": [
       "  0%|          | 0/2 [00:00<?, ?it/s]"
      ]
     },
     "metadata": {},
     "output_type": "display_data"
    },
    {
     "name": "stdout",
     "output_type": "stream",
     "text": [
      "620 125 True -0.04410899739552633\n",
      "620 125 False 0.2738796093895155\n"
     ]
    },
    {
     "data": {
      "application/vnd.jupyter.widget-view+json": {
       "model_id": "",
       "version_major": 2,
       "version_minor": 0
      },
      "text/plain": [
       "  0%|          | 0/2 [00:00<?, ?it/s]"
      ]
     },
     "metadata": {},
     "output_type": "display_data"
    },
    {
     "name": "stdout",
     "output_type": "stream",
     "text": [
      "620 249 True -0.7555929177794315\n",
      "620 249 False -0.5297760941383891\n"
     ]
    },
    {
     "data": {
      "application/vnd.jupyter.widget-view+json": {
       "model_id": "",
       "version_major": 2,
       "version_minor": 0
      },
      "text/plain": [
       "  0%|          | 0/2 [00:00<?, ?it/s]"
      ]
     },
     "metadata": {},
     "output_type": "display_data"
    },
    {
     "name": "stdout",
     "output_type": "stream",
     "text": [
      "620 373 True -1.0539629666558514\n",
      "620 373 False -1.2991808205030069\n"
     ]
    },
    {
     "data": {
      "application/vnd.jupyter.widget-view+json": {
       "model_id": "48ae33b6123445d8be2145b3785214a7",
       "version_major": 2,
       "version_minor": 0
      },
      "text/plain": [
       "  0%|          | 0/2 [00:00<?, ?it/s]"
      ]
     },
     "metadata": {},
     "output_type": "display_data"
    },
    {
     "ename": "KeyboardInterrupt",
     "evalue": "",
     "output_type": "error",
     "traceback": [
      "\u001b[0;31m---------------------------------------------------------------------------\u001b[0m",
      "\u001b[0;31mKeyboardInterrupt\u001b[0m                         Traceback (most recent call last)",
      "Input \u001b[0;32mIn [154]\u001b[0m, in \u001b[0;36m<cell line: 10>\u001b[0;34m()\u001b[0m\n\u001b[1;32m     16\u001b[0m include_other_name \u001b[38;5;241m=\u001b[39m \u001b[38;5;124m\"\u001b[39m\u001b[38;5;124mT\u001b[39m\u001b[38;5;124m\"\u001b[39m \u001b[38;5;28;01mif\u001b[39;00m include_other \u001b[38;5;28;01melse\u001b[39;00m \u001b[38;5;124m\"\u001b[39m\u001b[38;5;124mF\u001b[39m\u001b[38;5;124m\"\u001b[39m\n\u001b[1;32m     17\u001b[0m \u001b[38;5;66;03m# data_array = []\u001b[39;00m\n\u001b[1;32m     18\u001b[0m \u001b[38;5;66;03m# for i in actual_returns.columns:\u001b[39;00m\n\u001b[1;32m     19\u001b[0m \u001b[38;5;66;03m#     data_array.append(get_data(data, date_from, window_size, feature_size, include_other, i, require_2D=True))\u001b[39;00m\n\u001b[1;32m     20\u001b[0m \u001b[38;5;66;03m# perf[window_size][feature_size][include_other_name] = {}\u001b[39;00m\n\u001b[1;32m     21\u001b[0m \u001b[38;5;66;03m# perf[window_size][feature_size][include_other_name][\"None\"] = evaluate(LinearRegression(), data_array)\u001b[39;00m\n\u001b[1;32m     22\u001b[0m \u001b[38;5;66;03m# perf[window_size][feature_size][include_other_name] = evaluate(LinearRegression(), data_array)\u001b[39;00m\n\u001b[0;32m---> 23\u001b[0m perf[window_size][feature_size][include_other_name] \u001b[38;5;241m=\u001b[39m \u001b[43mevaluate_loader\u001b[49m\u001b[43m(\u001b[49m\u001b[43mLinearRegression\u001b[49m\u001b[43m(\u001b[49m\u001b[43mn_jobs\u001b[49m\u001b[38;5;241;43m=\u001b[39;49m\u001b[38;5;241;43m-\u001b[39;49m\u001b[38;5;241;43m1\u001b[39;49m\u001b[43m)\u001b[49m\u001b[43m,\u001b[49m\u001b[43m \u001b[49m\u001b[43mdata\u001b[49m\u001b[43m,\u001b[49m\u001b[43m \u001b[49m\u001b[43mdate_from\u001b[49m\u001b[43m,\u001b[49m\u001b[43m \u001b[49m\u001b[43mwindow_size\u001b[49m\u001b[43m,\u001b[49m\u001b[43m \u001b[49m\u001b[43mfeature_size\u001b[49m\u001b[43m,\u001b[49m\u001b[43m \u001b[49m\u001b[43minclude_other\u001b[49m\u001b[43m)\u001b[49m\n\u001b[1;32m     24\u001b[0m \u001b[38;5;28mprint\u001b[39m(\u001b[38;5;124mf\u001b[39m\u001b[38;5;124m\"\u001b[39m\u001b[38;5;132;01m{\u001b[39;00mwindow_size\u001b[38;5;132;01m}\u001b[39;00m\u001b[38;5;124m \u001b[39m\u001b[38;5;132;01m{\u001b[39;00mfeature_size\u001b[38;5;132;01m}\u001b[39;00m\u001b[38;5;124m \u001b[39m\u001b[38;5;132;01m{\u001b[39;00minclude_other\u001b[38;5;132;01m}\u001b[39;00m\u001b[38;5;124m \u001b[39m\u001b[38;5;132;01m{\u001b[39;00mperf[window_size][feature_size][include_other_name]\u001b[38;5;132;01m}\u001b[39;00m\u001b[38;5;124m\"\u001b[39m)\n",
      "Input \u001b[0;32mIn [132]\u001b[0m, in \u001b[0;36mevaluate_loader\u001b[0;34m(estimator, data, date_from, window_size, feature_size, include_other)\u001b[0m\n\u001b[1;32m      6\u001b[0m \u001b[38;5;28;01mfor\u001b[39;00m i \u001b[38;5;129;01min\u001b[39;00m \u001b[38;5;28mrange\u001b[39m(\u001b[38;5;28mlen\u001b[39m(dataLoader)):\n\u001b[1;32m      7\u001b[0m     train_X, train_y, test_X \u001b[38;5;241m=\u001b[39m dataLoader[i]\n\u001b[0;32m----> 8\u001b[0m     \u001b[43mestimator\u001b[49m\u001b[38;5;241;43m.\u001b[39;49m\u001b[43mfit\u001b[49m\u001b[43m(\u001b[49m\u001b[43mtrain_X\u001b[49m\u001b[43m,\u001b[49m\u001b[43m \u001b[49m\u001b[43mtrain_y\u001b[49m\u001b[43m)\u001b[49m\n\u001b[1;32m      9\u001b[0m     col_signal[i] \u001b[38;5;241m=\u001b[39m estimator\u001b[38;5;241m.\u001b[39mpredict(test_X)\n\u001b[1;32m     10\u001b[0m signal[:,col_idx] \u001b[38;5;241m=\u001b[39m col_signal\n",
      "File \u001b[0;32m~/anaconda3/envs/torch38/lib/python3.8/site-packages/sklearn/linear_model/_base.py:736\u001b[0m, in \u001b[0;36mLinearRegression.fit\u001b[0;34m(self, X, y, sample_weight)\u001b[0m\n\u001b[1;32m    734\u001b[0m         \u001b[38;5;28mself\u001b[39m\u001b[38;5;241m.\u001b[39mcoef_ \u001b[38;5;241m=\u001b[39m np\u001b[38;5;241m.\u001b[39mvstack([out[\u001b[38;5;241m0\u001b[39m] \u001b[38;5;28;01mfor\u001b[39;00m out \u001b[38;5;129;01min\u001b[39;00m outs])\n\u001b[1;32m    735\u001b[0m \u001b[38;5;28;01melse\u001b[39;00m:\n\u001b[0;32m--> 736\u001b[0m     \u001b[38;5;28mself\u001b[39m\u001b[38;5;241m.\u001b[39mcoef_, _, \u001b[38;5;28mself\u001b[39m\u001b[38;5;241m.\u001b[39mrank_, \u001b[38;5;28mself\u001b[39m\u001b[38;5;241m.\u001b[39msingular_ \u001b[38;5;241m=\u001b[39m \u001b[43mlinalg\u001b[49m\u001b[38;5;241;43m.\u001b[39;49m\u001b[43mlstsq\u001b[49m\u001b[43m(\u001b[49m\u001b[43mX\u001b[49m\u001b[43m,\u001b[49m\u001b[43m \u001b[49m\u001b[43my\u001b[49m\u001b[43m)\u001b[49m\n\u001b[1;32m    737\u001b[0m     \u001b[38;5;28mself\u001b[39m\u001b[38;5;241m.\u001b[39mcoef_ \u001b[38;5;241m=\u001b[39m \u001b[38;5;28mself\u001b[39m\u001b[38;5;241m.\u001b[39mcoef_\u001b[38;5;241m.\u001b[39mT\n\u001b[1;32m    739\u001b[0m \u001b[38;5;28;01mif\u001b[39;00m y\u001b[38;5;241m.\u001b[39mndim \u001b[38;5;241m==\u001b[39m \u001b[38;5;241m1\u001b[39m:\n",
      "File \u001b[0;32m~/anaconda3/envs/torch38/lib/python3.8/site-packages/scipy/linalg/_basic.py:1204\u001b[0m, in \u001b[0;36mlstsq\u001b[0;34m(a, b, cond, overwrite_a, overwrite_b, check_finite, lapack_driver)\u001b[0m\n\u001b[1;32m   1202\u001b[0m \u001b[38;5;28;01mif\u001b[39;00m real_data:\n\u001b[1;32m   1203\u001b[0m     lwork, iwork \u001b[38;5;241m=\u001b[39m _compute_lwork(lapack_lwork, m, n, nrhs, cond)\n\u001b[0;32m-> 1204\u001b[0m     x, s, rank, info \u001b[38;5;241m=\u001b[39m \u001b[43mlapack_func\u001b[49m\u001b[43m(\u001b[49m\u001b[43ma1\u001b[49m\u001b[43m,\u001b[49m\u001b[43m \u001b[49m\u001b[43mb1\u001b[49m\u001b[43m,\u001b[49m\u001b[43m \u001b[49m\u001b[43mlwork\u001b[49m\u001b[43m,\u001b[49m\n\u001b[1;32m   1205\u001b[0m \u001b[43m                                   \u001b[49m\u001b[43miwork\u001b[49m\u001b[43m,\u001b[49m\u001b[43m \u001b[49m\u001b[43mcond\u001b[49m\u001b[43m,\u001b[49m\u001b[43m \u001b[49m\u001b[38;5;28;43;01mFalse\u001b[39;49;00m\u001b[43m,\u001b[49m\u001b[43m \u001b[49m\u001b[38;5;28;43;01mFalse\u001b[39;49;00m\u001b[43m)\u001b[49m\n\u001b[1;32m   1206\u001b[0m \u001b[38;5;28;01melse\u001b[39;00m:  \u001b[38;5;66;03m# complex data\u001b[39;00m\n\u001b[1;32m   1207\u001b[0m     lwork, rwork, iwork \u001b[38;5;241m=\u001b[39m _compute_lwork(lapack_lwork, m, n,\n\u001b[1;32m   1208\u001b[0m                                          nrhs, cond)\n",
      "\u001b[0;31mKeyboardInterrupt\u001b[0m: "
     ]
    }
   ],
   "source": [
    "# param:\n",
    "#   window size\n",
    "#   feature size\n",
    "#   include other?\n",
    "#   L1, L2\n",
    "#   \n",
    "perf = {}\n",
    "date_from = '2017/1/1'\n",
    "max_window_size = data[data['datetime'] >= date_from].iloc[0].name - 1\n",
    "for window_size in tqdm(range(20, max_window_size, 100), position=0, leave=False): # window_size\n",
    "    perf[window_size] = {}\n",
    "    interval = int(window_size / 5)\n",
    "    for feature_size in tqdm(range(1, window_size, interval),position=1, leave=False): # feature_size\n",
    "        perf[window_size][feature_size] = {}\n",
    "        for include_other in tqdm((True, False),position=2, leave=False):\n",
    "            include_other_name = \"T\" if include_other else \"F\"\n",
    "            # data_array = []\n",
    "            # for i in actual_returns.columns:\n",
    "            #     data_array.append(get_data(data, date_from, window_size, feature_size, include_other, i, require_2D=True))\n",
    "            # perf[window_size][feature_size][include_other_name] = {}\n",
    "            # perf[window_size][feature_size][include_other_name][\"None\"] = evaluate(LinearRegression(), data_array)\n",
    "            # perf[window_size][feature_size][include_other_name] = evaluate(LinearRegression(), data_array)\n",
    "            perf[window_size][feature_size][include_other_name] = evaluate_loader(LinearRegression(n_jobs=-1), data, date_from, window_size, feature_size, include_other)\n",
    "            print(f\"{window_size} {feature_size} {include_other} {perf[window_size][feature_size][include_other_name]}\")\n",
    "            # perf[window_size][feature_size][include_other_name][\"L1\"] = {}\n",
    "#             for i in tqdm(range(5),position=3, leave=False):\n",
    "#                 c = 10 ** (-i)\n",
    "#                 perf[window_size][feature_size][include_other_name][\"L1\"][c] = evaluate(Lasso(alpha=c), data_array)\n",
    "                \n",
    "#             perf[window_size][feature_size][include_other_name][\"L2\"] = {}\n",
    "#             for i in tqdm(range(5),position=4, leave=False):\n",
    "#                 c = 10 ** (-i)\n",
    "#                 perf[window_size][feature_size][include_other_name][\"L2\"][c] = evaluate(Ridge(alpha=c), data_array)\n",
    "            # del data_array\n",
    "            # gc.collect()"
   ]
  },
  {
   "cell_type": "code",
   "execution_count": null,
   "id": "5b457964-3e9e-4245-967f-419aa3445323",
   "metadata": {},
   "outputs": [],
   "source": [
    "print(perf)"
   ]
  },
  {
   "cell_type": "code",
   "execution_count": null,
   "id": "c99195c4-86ef-4893-876c-be259333b0e7",
   "metadata": {},
   "outputs": [],
   "source": [
    "bestFeatureDim_SVR = {}\n",
    "for k in kernels:\n",
    "    perf = sharpeRatioForSVR_featureDim[k]\n",
    "    plt.plot(featureSizes, perf, label=k)\n",
    "    bestFeatureDim_SVR[k] = featureSizes[np.argmax(perf)]\n",
    "    print(f\"Best feature dim for {k} kernel is: {bestFeatureDim_SVR[k]}\")\n",
    "    print(f\"Best sharpe is {np.max(perf)}\")\n",
    "plt.legend()"
   ]
  },
  {
   "cell_type": "code",
   "execution_count": null,
   "id": "4edd067c-2f14-40c3-bb10-65ecc0c3bfcf",
   "metadata": {},
   "outputs": [],
   "source": [
    "sharpeRatioForSVR_windowsize_t1 = []\n",
    "featureSize_t1 = 29\n",
    "windowSize_t1 = [i for i in range(30, 200, 10)]\n",
    "kernel = 'linear'\n",
    "for windowSize in tqdm(windowSize_t1):\n",
    "    bt_data = data.iloc[data[data['datetime'] >= '2017/1/1'].iloc[0].name-windowSize-1:,1:]\n",
    "    signals = np.zeros((len(data[data['datetime'] >= '2017/1/1']), len(bt_data.columns)))\n",
    "    dataloader = DataLoaderV2(bt_data ,feature_size=featureSize_t1, window_size=windowSize)\n",
    "    for col_index, col_name in enumerate(bt_data.columns):\n",
    "        for i in range(len(dataloader)):\n",
    "            x, y = dataloader.__getitem__(i, col_index)\n",
    "            y = y.reshape(-1)\n",
    "            model = svm.SVR(kernel=kernel).fit(x, y)\n",
    "            test_x = dataloader.get_test_axis_1(i, col_index).reshape(1, -1)\n",
    "            signals[i, col_index] = model.predict(test_x)\n",
    "    signals = np.where(signals > 0, 1, -1)\n",
    "    sharpeRatioForSVR_windowsize_t1.append(sharpe_ratio(actual_returns, signals))"
   ]
  },
  {
   "cell_type": "code",
   "execution_count": null,
   "id": "da5c0f70-b588-455b-81f2-1c1ca07cae1b",
   "metadata": {},
   "outputs": [],
   "source": [
    "plt.plot(windowSize_t1, sharpeRatioForSVR_windowsize_t1)\n",
    "bestWindowSize_29D = windowSize_t1[np.argmax(sharpeRatioForSVR_windowsize_t1)]\n",
    "print(f\"Best window size for 29D is: {bestWindowSize_29D}\")\n",
    "print(f\"Best sharpe is {np.max(sharpeRatioForSVR_windowsize_t1)}\")"
   ]
  },
  {
   "cell_type": "code",
   "execution_count": null,
   "id": "f35783ce-0648-4c6c-812c-004ed47452fb",
   "metadata": {},
   "outputs": [],
   "source": [
    "bestFeatureDim_SVR = 29"
   ]
  },
  {
   "cell_type": "markdown",
   "id": "e10d6c0e-fdfd-4aaa-9dd0-fd8d37f3a40d",
   "metadata": {},
   "source": [
    "## Regularization"
   ]
  },
  {
   "cell_type": "code",
   "execution_count": null,
   "id": "1141df79-dc8f-4fdf-966b-1308e47c8461",
   "metadata": {},
   "outputs": [],
   "source": [
    "sharpeRatioForSVR_regularization = {}\n",
    "kernels = [\"linear\", 'poly', 'rbf', 'sigmoid']\n",
    "c_candidate = [i/10. for i in range(1, 6)]\n",
    "for k in kernels:\n",
    "    sharpeRatioForSVR_regularization[k] = []\n",
    "    for c in tqdm(c_candidate):\n",
    "        bt_data = data.iloc[data[data['datetime'] >= '2017/1/1'].iloc[0].name-bestWindowSize_SVR-1:,1:]\n",
    "        signals = np.zeros((len(data[data['datetime'] >= '2017/1/1']), len(bt_data.columns)))\n",
    "        dataloader = DataLoaderV2(bt_data ,feature_size=bestFeatureDim_SVR, window_size=bestWindowSize_SVR)\n",
    "        for col_index, col_name in enumerate(bt_data.columns):\n",
    "            for i in range(len(dataloader)):\n",
    "                x, y = dataloader.__getitem__(i, col_index)\n",
    "                y = y.reshape(-1)\n",
    "                model = svm.SVR(kernel=kernel, C=c).fit(x, y)\n",
    "                test_x = dataloader.get_test_axis_1(i, col_index).reshape(1, -1)\n",
    "                signals[i, col_index] = model.predict(test_x)\n",
    "        signals = np.where(signals > 0, 1, -1)\n",
    "        sharpeRatioForSVR_regularization[k].append(sharpe_ratio(actual_returns, signals))"
   ]
  },
  {
   "cell_type": "code",
   "execution_count": null,
   "id": "c867fa01-71b9-4344-a666-6ba0c7acc132",
   "metadata": {},
   "outputs": [],
   "source": [
    "for k in kernels:\n",
    "    perf = sharpeRatioForSVR_regularization[k]\n",
    "    plt.plot(c_candidate, perf, label=k)\n",
    "    best_c = c_candidate[np.argmax(perf)]\n",
    "    print(f\"Best C for {k} kernel is: {best_c}\")\n",
    "    print(f\"Best sharpe is {np.max(perf)}\")\n",
    "plt.legend()"
   ]
  }
 ],
 "metadata": {
  "kernelspec": {
   "display_name": "Python 3 (ipykernel)",
   "language": "python",
   "name": "python3"
  },
  "language_info": {
   "codemirror_mode": {
    "name": "ipython",
    "version": 3
   },
   "file_extension": ".py",
   "mimetype": "text/x-python",
   "name": "python",
   "nbconvert_exporter": "python",
   "pygments_lexer": "ipython3",
   "version": "3.8.13"
  },
  "toc-autonumbering": true,
  "toc-showmarkdowntxt": false
 },
 "nbformat": 4,
 "nbformat_minor": 5
}
