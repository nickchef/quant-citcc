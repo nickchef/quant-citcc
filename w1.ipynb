{
 "cells": [
  {
   "cell_type": "code",
   "execution_count": 1,
   "id": "f4439cd1-7940-40c2-a737-3ba844f09ef0",
   "metadata": {},
   "outputs": [],
   "source": [
    "import pandas as pd\n",
    "import numpy as np\n",
    "import torch\n",
    "from sklearn.linear_model import LinearRegression, Lasso, Ridge, ElasticNet\n",
    "import matplotlib.pyplot as plt\n",
    "import seaborn"
   ]
  },
  {
   "cell_type": "code",
   "execution_count": 2,
   "id": "6beb1105-22e5-4fd9-8254-17c5a01fd0af",
   "metadata": {},
   "outputs": [],
   "source": [
    "data = pd.read_csv(\"Workshop_Backtest.csv\")"
   ]
  },
  {
   "cell_type": "code",
   "execution_count": 3,
   "id": "cf803ef9-b5f1-4d5d-a4fb-eecfa053d7fb",
   "metadata": {},
   "outputs": [
    {
     "data": {
      "text/html": [
       "<div>\n",
       "<style scoped>\n",
       "    .dataframe tbody tr th:only-of-type {\n",
       "        vertical-align: middle;\n",
       "    }\n",
       "\n",
       "    .dataframe tbody tr th {\n",
       "        vertical-align: top;\n",
       "    }\n",
       "\n",
       "    .dataframe thead th {\n",
       "        text-align: right;\n",
       "    }\n",
       "</style>\n",
       "<table border=\"1\" class=\"dataframe\">\n",
       "  <thead>\n",
       "    <tr style=\"text-align: right;\">\n",
       "      <th></th>\n",
       "      <th>datetime</th>\n",
       "      <th>CF</th>\n",
       "      <th>SR</th>\n",
       "      <th>TA</th>\n",
       "      <th>al</th>\n",
       "      <th>au</th>\n",
       "      <th>c</th>\n",
       "      <th>cu</th>\n",
       "      <th>l</th>\n",
       "      <th>m</th>\n",
       "      <th>p</th>\n",
       "      <th>rb</th>\n",
       "      <th>ru</th>\n",
       "      <th>v</th>\n",
       "      <th>y</th>\n",
       "      <th>zn</th>\n",
       "    </tr>\n",
       "  </thead>\n",
       "  <tbody>\n",
       "    <tr>\n",
       "      <th>0</th>\n",
       "      <td>2010/1/5</td>\n",
       "      <td>0.011700</td>\n",
       "      <td>0.010348</td>\n",
       "      <td>0.011220</td>\n",
       "      <td>0.048953</td>\n",
       "      <td>0.011921</td>\n",
       "      <td>0.012156</td>\n",
       "      <td>0.034943</td>\n",
       "      <td>0.005915</td>\n",
       "      <td>0.011528</td>\n",
       "      <td>0.012012</td>\n",
       "      <td>0.010009</td>\n",
       "      <td>0.028698</td>\n",
       "      <td>0.000648</td>\n",
       "      <td>0.010202</td>\n",
       "      <td>0.041029</td>\n",
       "    </tr>\n",
       "    <tr>\n",
       "      <th>1</th>\n",
       "      <td>2010/1/6</td>\n",
       "      <td>-0.024954</td>\n",
       "      <td>-0.035594</td>\n",
       "      <td>-0.031634</td>\n",
       "      <td>-0.043162</td>\n",
       "      <td>-0.016297</td>\n",
       "      <td>-0.009922</td>\n",
       "      <td>-0.028508</td>\n",
       "      <td>-0.033712</td>\n",
       "      <td>-0.030935</td>\n",
       "      <td>-0.040734</td>\n",
       "      <td>-0.033175</td>\n",
       "      <td>-0.010413</td>\n",
       "      <td>-0.019430</td>\n",
       "      <td>-0.033251</td>\n",
       "      <td>-0.038521</td>\n",
       "    </tr>\n",
       "    <tr>\n",
       "      <th>2</th>\n",
       "      <td>2010/1/7</td>\n",
       "      <td>0.006552</td>\n",
       "      <td>-0.029944</td>\n",
       "      <td>0.007801</td>\n",
       "      <td>0.009022</td>\n",
       "      <td>0.029701</td>\n",
       "      <td>0.015823</td>\n",
       "      <td>0.019672</td>\n",
       "      <td>0.006085</td>\n",
       "      <td>0.005376</td>\n",
       "      <td>0.006187</td>\n",
       "      <td>0.000446</td>\n",
       "      <td>0.018066</td>\n",
       "      <td>-0.004624</td>\n",
       "      <td>0.002293</td>\n",
       "      <td>0.002316</td>\n",
       "    </tr>\n",
       "    <tr>\n",
       "      <th>3</th>\n",
       "      <td>2010/1/8</td>\n",
       "      <td>0.003254</td>\n",
       "      <td>-0.000179</td>\n",
       "      <td>-0.007741</td>\n",
       "      <td>0.013691</td>\n",
       "      <td>-0.005040</td>\n",
       "      <td>-0.006231</td>\n",
       "      <td>-0.009486</td>\n",
       "      <td>-0.000806</td>\n",
       "      <td>-0.011698</td>\n",
       "      <td>-0.015651</td>\n",
       "      <td>0.001782</td>\n",
       "      <td>0.007605</td>\n",
       "      <td>-0.009954</td>\n",
       "      <td>-0.018302</td>\n",
       "      <td>-0.006932</td>\n",
       "    </tr>\n",
       "    <tr>\n",
       "      <th>4</th>\n",
       "      <td>2010/1/11</td>\n",
       "      <td>-0.025361</td>\n",
       "      <td>-0.007719</td>\n",
       "      <td>-0.013896</td>\n",
       "      <td>-0.049063</td>\n",
       "      <td>-0.026535</td>\n",
       "      <td>-0.014107</td>\n",
       "      <td>-0.037981</td>\n",
       "      <td>-0.050040</td>\n",
       "      <td>-0.029422</td>\n",
       "      <td>-0.037763</td>\n",
       "      <td>-0.020231</td>\n",
       "      <td>-0.027869</td>\n",
       "      <td>-0.022788</td>\n",
       "      <td>-0.031072</td>\n",
       "      <td>-0.046999</td>\n",
       "    </tr>\n",
       "    <tr>\n",
       "      <th>...</th>\n",
       "      <td>...</td>\n",
       "      <td>...</td>\n",
       "      <td>...</td>\n",
       "      <td>...</td>\n",
       "      <td>...</td>\n",
       "      <td>...</td>\n",
       "      <td>...</td>\n",
       "      <td>...</td>\n",
       "      <td>...</td>\n",
       "      <td>...</td>\n",
       "      <td>...</td>\n",
       "      <td>...</td>\n",
       "      <td>...</td>\n",
       "      <td>...</td>\n",
       "      <td>...</td>\n",
       "      <td>...</td>\n",
       "    </tr>\n",
       "    <tr>\n",
       "      <th>2785</th>\n",
       "      <td>2021/6/23</td>\n",
       "      <td>0.000945</td>\n",
       "      <td>-0.002906</td>\n",
       "      <td>-0.002797</td>\n",
       "      <td>-0.004259</td>\n",
       "      <td>-0.001391</td>\n",
       "      <td>-0.001161</td>\n",
       "      <td>-0.003336</td>\n",
       "      <td>0.008197</td>\n",
       "      <td>-0.003260</td>\n",
       "      <td>-0.015468</td>\n",
       "      <td>-0.006221</td>\n",
       "      <td>0.006939</td>\n",
       "      <td>-0.013458</td>\n",
       "      <td>-0.012977</td>\n",
       "      <td>-0.001369</td>\n",
       "    </tr>\n",
       "    <tr>\n",
       "      <th>2786</th>\n",
       "      <td>2021/6/24</td>\n",
       "      <td>0.008816</td>\n",
       "      <td>0.008927</td>\n",
       "      <td>0.036859</td>\n",
       "      <td>0.018979</td>\n",
       "      <td>-0.000107</td>\n",
       "      <td>0.002713</td>\n",
       "      <td>0.002329</td>\n",
       "      <td>0.013759</td>\n",
       "      <td>0.010110</td>\n",
       "      <td>0.022112</td>\n",
       "      <td>0.028271</td>\n",
       "      <td>0.007657</td>\n",
       "      <td>0.013642</td>\n",
       "      <td>0.019102</td>\n",
       "      <td>0.002742</td>\n",
       "    </tr>\n",
       "    <tr>\n",
       "      <th>2787</th>\n",
       "      <td>2021/6/25</td>\n",
       "      <td>0.002809</td>\n",
       "      <td>0.000181</td>\n",
       "      <td>0.002318</td>\n",
       "      <td>-0.011280</td>\n",
       "      <td>-0.003323</td>\n",
       "      <td>0.007731</td>\n",
       "      <td>-0.005663</td>\n",
       "      <td>0.016039</td>\n",
       "      <td>0.013247</td>\n",
       "      <td>0.003985</td>\n",
       "      <td>0.006088</td>\n",
       "      <td>-0.003419</td>\n",
       "      <td>0.016969</td>\n",
       "      <td>-0.010224</td>\n",
       "      <td>-0.010255</td>\n",
       "    </tr>\n",
       "    <tr>\n",
       "      <th>2788</th>\n",
       "      <td>2021/6/28</td>\n",
       "      <td>0.000000</td>\n",
       "      <td>0.007222</td>\n",
       "      <td>-0.016962</td>\n",
       "      <td>0.000796</td>\n",
       "      <td>-0.014412</td>\n",
       "      <td>0.002301</td>\n",
       "      <td>-0.007886</td>\n",
       "      <td>-0.006072</td>\n",
       "      <td>0.007844</td>\n",
       "      <td>0.012759</td>\n",
       "      <td>-0.010346</td>\n",
       "      <td>-0.018300</td>\n",
       "      <td>0.001726</td>\n",
       "      <td>0.012051</td>\n",
       "      <td>0.006447</td>\n",
       "    </tr>\n",
       "    <tr>\n",
       "      <th>2789</th>\n",
       "      <td>2021/6/29</td>\n",
       "      <td>-0.003735</td>\n",
       "      <td>0.005377</td>\n",
       "      <td>-0.001176</td>\n",
       "      <td>-0.000530</td>\n",
       "      <td>0.001964</td>\n",
       "      <td>-0.000383</td>\n",
       "      <td>0.015602</td>\n",
       "      <td>0.000611</td>\n",
       "      <td>0.003459</td>\n",
       "      <td>0.010918</td>\n",
       "      <td>0.022880</td>\n",
       "      <td>-0.007767</td>\n",
       "      <td>-0.001723</td>\n",
       "      <td>0.006075</td>\n",
       "      <td>0.012583</td>\n",
       "    </tr>\n",
       "  </tbody>\n",
       "</table>\n",
       "<p>2790 rows × 16 columns</p>\n",
       "</div>"
      ],
      "text/plain": [
       "       datetime        CF        SR        TA        al        au         c  \\\n",
       "0      2010/1/5  0.011700  0.010348  0.011220  0.048953  0.011921  0.012156   \n",
       "1      2010/1/6 -0.024954 -0.035594 -0.031634 -0.043162 -0.016297 -0.009922   \n",
       "2      2010/1/7  0.006552 -0.029944  0.007801  0.009022  0.029701  0.015823   \n",
       "3      2010/1/8  0.003254 -0.000179 -0.007741  0.013691 -0.005040 -0.006231   \n",
       "4     2010/1/11 -0.025361 -0.007719 -0.013896 -0.049063 -0.026535 -0.014107   \n",
       "...         ...       ...       ...       ...       ...       ...       ...   \n",
       "2785  2021/6/23  0.000945 -0.002906 -0.002797 -0.004259 -0.001391 -0.001161   \n",
       "2786  2021/6/24  0.008816  0.008927  0.036859  0.018979 -0.000107  0.002713   \n",
       "2787  2021/6/25  0.002809  0.000181  0.002318 -0.011280 -0.003323  0.007731   \n",
       "2788  2021/6/28  0.000000  0.007222 -0.016962  0.000796 -0.014412  0.002301   \n",
       "2789  2021/6/29 -0.003735  0.005377 -0.001176 -0.000530  0.001964 -0.000383   \n",
       "\n",
       "            cu         l         m         p        rb        ru         v  \\\n",
       "0     0.034943  0.005915  0.011528  0.012012  0.010009  0.028698  0.000648   \n",
       "1    -0.028508 -0.033712 -0.030935 -0.040734 -0.033175 -0.010413 -0.019430   \n",
       "2     0.019672  0.006085  0.005376  0.006187  0.000446  0.018066 -0.004624   \n",
       "3    -0.009486 -0.000806 -0.011698 -0.015651  0.001782  0.007605 -0.009954   \n",
       "4    -0.037981 -0.050040 -0.029422 -0.037763 -0.020231 -0.027869 -0.022788   \n",
       "...        ...       ...       ...       ...       ...       ...       ...   \n",
       "2785 -0.003336  0.008197 -0.003260 -0.015468 -0.006221  0.006939 -0.013458   \n",
       "2786  0.002329  0.013759  0.010110  0.022112  0.028271  0.007657  0.013642   \n",
       "2787 -0.005663  0.016039  0.013247  0.003985  0.006088 -0.003419  0.016969   \n",
       "2788 -0.007886 -0.006072  0.007844  0.012759 -0.010346 -0.018300  0.001726   \n",
       "2789  0.015602  0.000611  0.003459  0.010918  0.022880 -0.007767 -0.001723   \n",
       "\n",
       "             y        zn  \n",
       "0     0.010202  0.041029  \n",
       "1    -0.033251 -0.038521  \n",
       "2     0.002293  0.002316  \n",
       "3    -0.018302 -0.006932  \n",
       "4    -0.031072 -0.046999  \n",
       "...        ...       ...  \n",
       "2785 -0.012977 -0.001369  \n",
       "2786  0.019102  0.002742  \n",
       "2787 -0.010224 -0.010255  \n",
       "2788  0.012051  0.006447  \n",
       "2789  0.006075  0.012583  \n",
       "\n",
       "[2790 rows x 16 columns]"
      ]
     },
     "execution_count": 3,
     "metadata": {},
     "output_type": "execute_result"
    }
   ],
   "source": [
    "data"
   ]
  },
  {
   "cell_type": "code",
   "execution_count": 4,
   "id": "e72e55ce-16b6-40f8-871d-5152a400c75d",
   "metadata": {},
   "outputs": [],
   "source": [
    "numeric_data = data.iloc[:,1:]"
   ]
  },
  {
   "cell_type": "code",
   "execution_count": 5,
   "id": "6501b87c-925b-41c9-afda-824128ffa13b",
   "metadata": {},
   "outputs": [
    {
     "data": {
      "text/plain": [
       "<AxesSubplot:>"
      ]
     },
     "execution_count": 5,
     "metadata": {},
     "output_type": "execute_result"
    },
    {
     "data": {
      "image/png": "[encoded data removed]",
      "text/plain": [
       "<Figure size 432x288 with 2 Axes>"
      ]
     },
     "metadata": {
      "needs_background": "light"
     },
     "output_type": "display_data"
    }
   ],
   "source": [
    "seaborn.heatmap(numeric_data.corr())"
   ]
  },
  {
   "cell_type": "code",
   "execution_count": 6,
   "id": "9fb531e5-3c6f-4bba-9b6b-d9fc38ad3bde",
   "metadata": {},
   "outputs": [],
   "source": [
    "def sharpe_ratio(actualReturn, signals):\n",
    "    assert actualReturn.shape == signals.shape\n",
    "    dailyReturns = (actualReturn * signals)\n",
    "    if(dailyReturns.shape[1] > 1):\n",
    "        dailyReturns = dailyReturns.mean(axis=1)\n",
    "    return dailyReturns.mean() / dailyReturns.std() * np.sqrt(240)"
   ]
  },
  {
   "cell_type": "markdown",
   "id": "22477f48-4bce-4788-8d94-9bdd58a676bd",
   "metadata": {},
   "source": [
    "# 0.Benchmark\n",
    "\n",
    "Linear regression\n",
    "\n",
    "在excel中，给定benchmark实际上是使用前20天的数据作为窗口进行线性回归， 然后使用当天回报率去预测明天的回报率\n",
    "x=(前21天-前1天)\n",
    "y=(前20天-今天)"
   ]
  },
  {
   "cell_type": "markdown",
   "id": "921cce8e-46ce-4bea-86cd-56fadf26983e",
   "metadata": {},
   "source": [
    "## 验证一下算法"
   ]
  },
  {
   "cell_type": "code",
   "execution_count": 7,
   "id": "f247e902-4a9c-4e96-8e50-65652fff8de1",
   "metadata": {},
   "outputs": [],
   "source": [
    "trainWindow = 20\n",
    "\n",
    "pdata = numeric_data['p']\n",
    "signal = np.zeros(len(pdata) - trainWindow - 1).reshape(-1, 1)\n",
    "for i in range(trainWindow + 1, len(pdata)):\n",
    "    x = pdata[i - trainWindow - 1: i - 1].to_numpy().reshape(-1,1)\n",
    "    y = pdata[i - trainWindow: i].to_numpy().reshape(-1,1)\n",
    "    regressor = LinearRegression()\n",
    "    regressor.fit(x, y)\n",
    "    signal[i - trainWindow - 1] = 1 if regressor.predict(pdata[i-1].reshape(-1,1)) > 0 else -1"
   ]
  },
  {
   "cell_type": "code",
   "execution_count": 8,
   "id": "f2ef7b2d-8a47-4ce6-bfea-2b3beb5037af",
   "metadata": {},
   "outputs": [
    {
     "data": {
      "text/plain": [
       "0.4339724650673047"
      ]
     },
     "execution_count": 8,
     "metadata": {},
     "output_type": "execute_result"
    }
   ],
   "source": [
    "sharpe_ratio(pdata.iloc[trainWindow + 1:].to_numpy().reshape(-1,1),signal)"
   ]
  },
  {
   "cell_type": "markdown",
   "id": "3044e716-56c7-41ce-88d3-9a16a8284c7a",
   "metadata": {
    "tags": []
   },
   "source": [
    "## 1.Benchmark v0\n",
    "\n",
    "将线性回归推广到全部产品，规定回测期为17年起"
   ]
  },
  {
   "cell_type": "code",
   "execution_count": 9,
   "id": "caeb3820-3a9f-4975-a1a0-b1c80f83c543",
   "metadata": {},
   "outputs": [],
   "source": [
    "class singleFeatureDataLoader:\n",
    "    \n",
    "    def __init__(self, data_series, window_size=20):\n",
    "        self.x = data_series.iloc[:-1].to_numpy().reshape(-1,1)\n",
    "        self.y = data_series.iloc[1:].to_numpy().reshape(-1,1)\n",
    "        self.window_size = window_size\n",
    "        self._cnt = 0\n",
    "        \n",
    "    def __len__(self):\n",
    "        return len(self.x) - self.window_size\n",
    "    \n",
    "    def __getitem__(self, index):\n",
    "        return self.x[index :index+self.window_size], self.y[index:index+self.window_size]\n",
    "    \n",
    "    def __iter__(self):\n",
    "        return self\n",
    "    \n",
    "    def __next__(self):\n",
    "        if self._cnt == self.__len__():\n",
    "            self._cnt = 0\n",
    "            raise StopIteration\n",
    "        self._cnt += 1\n",
    "        return self.__getitem__(self._cnt - 1)"
   ]
  },
  {
   "cell_type": "code",
   "execution_count": 10,
   "id": "9f53db58-9424-49fb-9be2-f39ad100d8b1",
   "metadata": {},
   "outputs": [],
   "source": [
    "bt_begin_at = data[data['datetime'] >= '2017/1/1'].iloc[0].name\n",
    "bt_data = data.iloc[bt_begin_at-21:,1:]    "
   ]
  },
  {
   "cell_type": "code",
   "execution_count": 11,
   "id": "6cb3e64b-4fbe-492d-a74a-c656829f989c",
   "metadata": {},
   "outputs": [],
   "source": [
    "signals = np.zeros((len(data[data['datetime'] >= '2017/1/1']), len(bt_data.columns)))\n",
    "for col_index, col_name in enumerate(bt_data.columns):\n",
    "    dataloader = singleFeatureDataLoader(bt_data[col_name])\n",
    "    for i in range(len(dataloader)):\n",
    "        x, y = dataloader[i]\n",
    "        model = LinearRegression().fit(x, y)\n",
    "        test_x = y[-1].reshape(-1,1)\n",
    "        signals[i, col_index] = model.predict(test_x)\n",
    "signals = np.where(signals > 0, 1, -1)"
   ]
  },
  {
   "cell_type": "code",
   "execution_count": 12,
   "id": "3a41e0f5-7ace-4456-800b-2c3a90c25101",
   "metadata": {},
   "outputs": [],
   "source": [
    "actual_returns = data[data['datetime'] >= '2017/1/1'].iloc[:, 1:].to_numpy()"
   ]
  },
  {
   "cell_type": "code",
   "execution_count": 13,
   "id": "7a12ad6d-23ad-4af1-989a-e3dea2ed7ffa",
   "metadata": {},
   "outputs": [
    {
     "data": {
      "text/plain": [
       "0.2794710431588451"
      ]
     },
     "execution_count": 13,
     "metadata": {},
     "output_type": "execute_result"
    }
   ],
   "source": [
    "sharpe_ratio(actual_returns, signals)"
   ]
  },
  {
   "cell_type": "markdown",
   "id": "6d810066-12eb-4211-a2ab-9cbba4c3ada1",
   "metadata": {},
   "source": [
    "## 2.Benchmark v0.1\n",
    "\n",
    "将特征拓展到10维（使用前10天的数据去预测第11天的数据）\n",
    "\n",
    "每次使用时间窗口内的数据进行建模（20天）"
   ]
  },
  {
   "cell_type": "code",
   "execution_count": 14,
   "id": "1749206f-9b8b-4c2f-b33e-835d260152de",
   "metadata": {},
   "outputs": [],
   "source": [
    "class DataLoaderV01:\n",
    "    \n",
    "    def __init__(self, data_series, window_size=21, feature_size=10):\n",
    "        self.x = data_series.iloc[:-1].to_numpy().reshape(-1,1)\n",
    "        self.y = data_series.iloc[feature_size:].to_numpy().reshape(-1,1)\n",
    "        self.window_size = window_size\n",
    "        self.feature_size = feature_size\n",
    "        self.sample_number_per_window = window_size - feature_size - 1\n",
    "        self._cnt = 0\n",
    "        \n",
    "    def __len__(self):\n",
    "        return len(self.y) - self.window_size\n",
    "    \n",
    "    def __getitem__(self, index):\n",
    "        x_mat = np.zeros((self.sample_number_per_window, self.feature_size)) # (9, 10)\n",
    "        y_mat = np.zeros((self.sample_number_per_window,1)).reshape(-1,1)\n",
    "        for i in range(self.sample_number_per_window):\n",
    "            x_mat[i] = self.x[index + i :index+i+self.feature_size].T\n",
    "            y_mat[i] = self.y[index + i]\n",
    "        return x_mat, y_mat\n",
    "    \n",
    "    def __iter__(self):\n",
    "        return self\n",
    "    \n",
    "    def __next__(self):\n",
    "        if self._cnt == self.__len__():\n",
    "            self._cnt = 0\n",
    "            raise StopIteration\n",
    "        self._cnt += 1\n",
    "        return self.__getitem__(self._cnt - 1)"
   ]
  },
  {
   "cell_type": "code",
   "execution_count": 15,
   "id": "93a3af13-d080-4978-89b4-f9a13b12a49e",
   "metadata": {},
   "outputs": [],
   "source": [
    "bt_begin_at = data[data['datetime'] >= '2017/1/1'].iloc[0].name\n",
    "bt_data = data.iloc[bt_begin_at-21:,1:]"
   ]
  },
  {
   "cell_type": "code",
   "execution_count": 16,
   "id": "9c2e7f9d-215b-49b8-80fa-9ef2a7b84a0a",
   "metadata": {},
   "outputs": [],
   "source": [
    "# N days of n product\n",
    "signals = np.zeros((len(data[data['datetime'] >= '2017/1/1']), len(bt_data.columns))) # (N * n)\n",
    "for col_index, col_name in enumerate(bt_data.columns):\n",
    "    dataloader = DataLoaderV01(bt_data[col_name])\n",
    "    for i in range(len(dataloader)):\n",
    "        x, y = dataloader[i]\n",
    "        model = LinearRegression().fit(x, y)\n",
    "        signals[i, col_index] = model.predict(y.reshape(1, -1))\n",
    "signals = np.where(signals > 0, 1, -1)"
   ]
  },
  {
   "cell_type": "code",
   "execution_count": 17,
   "id": "3c970b5e-1b53-4153-a8f6-fa56cc0ee292",
   "metadata": {},
   "outputs": [],
   "source": [
    "actual_returns = data[data['datetime'] >= '2017/1/1'].iloc[:, 1:].to_numpy()"
   ]
  },
  {
   "cell_type": "code",
   "execution_count": 18,
   "id": "75f0a347-df53-4547-a8bc-250f3867a272",
   "metadata": {},
   "outputs": [
    {
     "data": {
      "text/plain": [
       "0.2473836178386532"
      ]
     },
     "execution_count": 18,
     "metadata": {},
     "output_type": "execute_result"
    }
   ],
   "source": [
    "sharpe_ratio(actual_returns, signals)"
   ]
  },
  {
   "cell_type": "markdown",
   "id": "59ae4cfb-40cd-4bf5-9795-7647c3f7a452",
   "metadata": {},
   "source": [
    "# Benchmark V0.2\n",
    "\n",
    "使用正则化"
   ]
  },
  {
   "cell_type": "code",
   "execution_count": 19,
   "id": "02afae1e-f450-4504-962b-1352463c6985",
   "metadata": {},
   "outputs": [],
   "source": [
    "# N days of n product\n",
    "signals = np.zeros((len(data[data['datetime'] >= '2017/1/1']), len(bt_data.columns))) # (N * n)\n",
    "for col_index, col_name in enumerate(bt_data.columns):\n",
    "    dataloader = DataLoaderV01(bt_data[col_name])\n",
    "    for i in range(len(dataloader)):\n",
    "        x, y = dataloader[i]\n",
    "        model = Lasso().fit(x, y)\n",
    "        signals[i, col_index] = model.predict(y.reshape(1, -1))\n",
    "signals = np.where(signals > 0, 1, -1)"
   ]
  },
  {
   "cell_type": "code",
   "execution_count": 20,
   "id": "60d856b6-986b-4a1f-be06-f8f766b3d177",
   "metadata": {},
   "outputs": [
    {
     "data": {
      "text/plain": [
       "0.7404937060285496"
      ]
     },
     "execution_count": 20,
     "metadata": {},
     "output_type": "execute_result"
    }
   ],
   "source": [
    "sharpe_ratio(actual_returns, signals)"
   ]
  },
  {
   "cell_type": "code",
   "execution_count": 21,
   "id": "072630cc-ac74-4d34-a307-487459465879",
   "metadata": {},
   "outputs": [],
   "source": [
    "# N days of n product\n",
    "signals = np.zeros((len(data[data['datetime'] >= '2017/1/1']), len(bt_data.columns))) # (N * n)\n",
    "for col_index, col_name in enumerate(bt_data.columns):\n",
    "    dataloader = DataLoaderV01(bt_data[col_name])\n",
    "    for i in range(len(dataloader)):\n",
    "        x, y = dataloader[i]\n",
    "        model = Ridge().fit(x, y)\n",
    "        signals[i, col_index] = model.predict(y.reshape(1, -1))\n",
    "signals = np.where(signals > 0, 1, -1)"
   ]
  },
  {
   "cell_type": "code",
   "execution_count": 22,
   "id": "6a3b49f1-0611-4792-9880-92e601f888f8",
   "metadata": {},
   "outputs": [
    {
     "data": {
      "text/plain": [
       "0.7387223454244493"
      ]
     },
     "execution_count": 22,
     "metadata": {},
     "output_type": "execute_result"
    }
   ],
   "source": [
    "sharpe_ratio(actual_returns, signals)"
   ]
  },
  {
   "cell_type": "code",
   "execution_count": 23,
   "id": "ad958b39-f1ef-4140-8d2d-f00eb39036cb",
   "metadata": {},
   "outputs": [],
   "source": [
    "# N days of n product\n",
    "signals = np.zeros((len(data[data['datetime'] >= '2017/1/1']), len(bt_data.columns))) # (N * n)\n",
    "for col_index, col_name in enumerate(bt_data.columns):\n",
    "    dataloader = DataLoaderV01(bt_data[col_name])\n",
    "    for i in range(len(dataloader)):\n",
    "        x, y = dataloader[i]\n",
    "        model = ElasticNet().fit(x, y)\n",
    "        signals[i, col_index] = model.predict(y.reshape(1, -1))\n",
    "signals = np.where(signals > 0, 1, -1)"
   ]
  },
  {
   "cell_type": "code",
   "execution_count": 24,
   "id": "ba46689b-813e-4e87-9540-b4abfd68d7cd",
   "metadata": {},
   "outputs": [
    {
     "data": {
      "text/plain": [
       "0.7404937060285496"
      ]
     },
     "execution_count": 24,
     "metadata": {},
     "output_type": "execute_result"
    }
   ],
   "source": [
    "sharpe_ratio(actual_returns, signals)"
   ]
  },
  {
   "cell_type": "markdown",
   "id": "5dda446c-f9ea-4792-a195-bb19162d5fc1",
   "metadata": {},
   "source": [
    "# Benchmark V0.3\n",
    "\n",
    "尝试一下SVR算法"
   ]
  },
  {
   "cell_type": "code",
   "execution_count": 25,
   "id": "1bd727b8-6fbf-4879-9c7b-896d2802a2e4",
   "metadata": {},
   "outputs": [],
   "source": [
    "from sklearn import svm"
   ]
  },
  {
   "cell_type": "code",
   "execution_count": 39,
   "id": "3f1bc861-c932-4298-9cd4-84bc90d1f3d6",
   "metadata": {},
   "outputs": [],
   "source": [
    "# N days of n product\n",
    "signals = np.zeros((len(data[data['datetime'] >= '2017/1/1']), len(bt_data.columns))) # (N * n)\n",
    "for col_index, col_name in enumerate(bt_data.columns):\n",
    "    dataloader = DataLoaderV01(bt_data[col_name])\n",
    "    for i in range(len(dataloader)):\n",
    "        x, y = dataloader[i]\n",
    "        y = y.reshape(-1)\n",
    "        model = svm.SVR(kernel='linear',C=.05).fit(x, y)\n",
    "        signals[i, col_index] = model.predict(y.reshape(1, -1))\n",
    "signals = np.where(signals > 0, 1, -1)"
   ]
  },
  {
   "cell_type": "code",
   "execution_count": 40,
   "id": "d30f9f6a-8b55-4971-a310-af7e3d2fedb5",
   "metadata": {},
   "outputs": [
    {
     "data": {
      "text/plain": [
       "0.44697083360188383"
      ]
     },
     "execution_count": 40,
     "metadata": {},
     "output_type": "execute_result"
    }
   ],
   "source": [
    "sharpe_ratio(actual_returns, signals)"
   ]
  },
  {
   "cell_type": "markdown",
   "id": "ab082c05-1d28-46f7-97b3-4a98e81e06d4",
   "metadata": {},
   "source": [
    "换成rbf核函数"
   ]
  },
  {
   "cell_type": "code",
   "execution_count": 44,
   "id": "6d373bcb-f077-499f-b0bc-04a2d92150c9",
   "metadata": {},
   "outputs": [
    {
     "data": {
      "text/plain": [
       "0.44697083360188383"
      ]
     },
     "execution_count": 44,
     "metadata": {},
     "output_type": "execute_result"
    }
   ],
   "source": [
    "# N days of n product\n",
    "signals = np.zeros((len(data[data['datetime'] >= '2017/1/1']), len(bt_data.columns))) # (N * n)\n",
    "for col_index, col_name in enumerate(bt_data.columns):\n",
    "    dataloader = DataLoaderV01(bt_data[col_name])\n",
    "    for i in range(len(dataloader)):\n",
    "        x, y = dataloader[i]\n",
    "        y = y.reshape(-1)\n",
    "        model = svm.SVR(kernel='rbf',C=.05).fit(x, y)\n",
    "        signals[i, col_index] = model.predict(y.reshape(1, -1))\n",
    "signals = np.where(signals > 0, 1, -1)\n",
    "sharpe_ratio(actual_returns, signals)"
   ]
  },
  {
   "cell_type": "markdown",
   "id": "eda41c67-fea8-4fbf-8a2a-21806978b1af",
   "metadata": {},
   "source": [
    "# Benchmark V0.4\n",
    "\n",
    "Bagging ensembling"
   ]
  },
  {
   "cell_type": "code",
   "execution_count": 53,
   "id": "8e39dbc3-32b3-4f64-af38-4fb8420c274a",
   "metadata": {},
   "outputs": [],
   "source": [
    "from sklearn.ensemble import RandomForestRegressor\n",
    "from tqdm.notebook import tqdm"
   ]
  },
  {
   "cell_type": "code",
   "execution_count": 57,
   "id": "eb550413-ac0e-49f9-8f6c-16d579dcb3e2",
   "metadata": {},
   "outputs": [
    {
     "data": {
      "application/vnd.jupyter.widget-view+json": {
       "model_id": "dca891d24847435f89ccab7fd11a8640",
       "version_major": 2,
       "version_minor": 0
      },
      "text/plain": [
       "0it [00:00, ?it/s]"
      ]
     },
     "metadata": {},
     "output_type": "display_data"
    },
    {
     "data": {
      "application/vnd.jupyter.widget-view+json": {
       "model_id": "762a268eb5bf43b789877ca5d82c0b9c",
       "version_major": 2,
       "version_minor": 0
      },
      "text/plain": [
       "  0%|          | 0/1081 [00:00<?, ?it/s]"
      ]
     },
     "metadata": {},
     "output_type": "display_data"
    },
    {
     "data": {
      "application/vnd.jupyter.widget-view+json": {
       "model_id": "fb0e3d27741d4cd78efeef3dc7697643",
       "version_major": 2,
       "version_minor": 0
      },
      "text/plain": [
       "  0%|          | 0/1081 [00:00<?, ?it/s]"
      ]
     },
     "metadata": {},
     "output_type": "display_data"
    },
    {
     "data": {
      "application/vnd.jupyter.widget-view+json": {
       "model_id": "24fb71e2d0ce4118a1907f6b6ef9e374",
       "version_major": 2,
       "version_minor": 0
      },
      "text/plain": [
       "  0%|          | 0/1081 [00:00<?, ?it/s]"
      ]
     },
     "metadata": {},
     "output_type": "display_data"
    },
    {
     "data": {
      "application/vnd.jupyter.widget-view+json": {
       "model_id": "3b229cb8725f4ec28b63f83f21e12500",
       "version_major": 2,
       "version_minor": 0
      },
      "text/plain": [
       "  0%|          | 0/1081 [00:00<?, ?it/s]"
      ]
     },
     "metadata": {},
     "output_type": "display_data"
    },
    {
     "data": {
      "application/vnd.jupyter.widget-view+json": {
       "model_id": "ea19f90f8125476295df818572b8789f",
       "version_major": 2,
       "version_minor": 0
      },
      "text/plain": [
       "  0%|          | 0/1081 [00:00<?, ?it/s]"
      ]
     },
     "metadata": {},
     "output_type": "display_data"
    },
    {
     "data": {
      "application/vnd.jupyter.widget-view+json": {
       "model_id": "4f12a0ec7dde49718d5ba87d69ee5199",
       "version_major": 2,
       "version_minor": 0
      },
      "text/plain": [
       "  0%|          | 0/1081 [00:00<?, ?it/s]"
      ]
     },
     "metadata": {},
     "output_type": "display_data"
    },
    {
     "data": {
      "application/vnd.jupyter.widget-view+json": {
       "model_id": "0a4b181535e14811bf71e6d70e3083b0",
       "version_major": 2,
       "version_minor": 0
      },
      "text/plain": [
       "  0%|          | 0/1081 [00:00<?, ?it/s]"
      ]
     },
     "metadata": {},
     "output_type": "display_data"
    },
    {
     "data": {
      "application/vnd.jupyter.widget-view+json": {
       "model_id": "b172ac27fcfb483eb1740b811fbdf8b8",
       "version_major": 2,
       "version_minor": 0
      },
      "text/plain": [
       "  0%|          | 0/1081 [00:00<?, ?it/s]"
      ]
     },
     "metadata": {},
     "output_type": "display_data"
    },
    {
     "data": {
      "application/vnd.jupyter.widget-view+json": {
       "model_id": "e8a428134e91457ba5b666226b595889",
       "version_major": 2,
       "version_minor": 0
      },
      "text/plain": [
       "  0%|          | 0/1081 [00:00<?, ?it/s]"
      ]
     },
     "metadata": {},
     "output_type": "display_data"
    },
    {
     "data": {
      "application/vnd.jupyter.widget-view+json": {
       "model_id": "bcbede19fcc04bfd9b796814a88296e4",
       "version_major": 2,
       "version_minor": 0
      },
      "text/plain": [
       "  0%|          | 0/1081 [00:00<?, ?it/s]"
      ]
     },
     "metadata": {},
     "output_type": "display_data"
    },
    {
     "data": {
      "application/vnd.jupyter.widget-view+json": {
       "model_id": "41371478b52945519111ab5029c0c8c3",
       "version_major": 2,
       "version_minor": 0
      },
      "text/plain": [
       "  0%|          | 0/1081 [00:00<?, ?it/s]"
      ]
     },
     "metadata": {},
     "output_type": "display_data"
    },
    {
     "data": {
      "application/vnd.jupyter.widget-view+json": {
       "model_id": "6099980257d34aeebef132194ab50969",
       "version_major": 2,
       "version_minor": 0
      },
      "text/plain": [
       "  0%|          | 0/1081 [00:00<?, ?it/s]"
      ]
     },
     "metadata": {},
     "output_type": "display_data"
    },
    {
     "data": {
      "application/vnd.jupyter.widget-view+json": {
       "model_id": "4247874880a14f8ea13198f05d40dcaf",
       "version_major": 2,
       "version_minor": 0
      },
      "text/plain": [
       "  0%|          | 0/1081 [00:00<?, ?it/s]"
      ]
     },
     "metadata": {},
     "output_type": "display_data"
    },
    {
     "data": {
      "application/vnd.jupyter.widget-view+json": {
       "model_id": "6433f550579c4a3090f095de27b485a6",
       "version_major": 2,
       "version_minor": 0
      },
      "text/plain": [
       "  0%|          | 0/1081 [00:00<?, ?it/s]"
      ]
     },
     "metadata": {},
     "output_type": "display_data"
    },
    {
     "data": {
      "application/vnd.jupyter.widget-view+json": {
       "model_id": "e3da5a9f57014601a38afc80436ce804",
       "version_major": 2,
       "version_minor": 0
      },
      "text/plain": [
       "  0%|          | 0/1081 [00:00<?, ?it/s]"
      ]
     },
     "metadata": {},
     "output_type": "display_data"
    },
    {
     "data": {
      "text/plain": [
       "0.15616794462685554"
      ]
     },
     "execution_count": 57,
     "metadata": {},
     "output_type": "execute_result"
    }
   ],
   "source": [
    "# N days of n product\n",
    "signals = np.zeros((len(data[data['datetime'] >= '2017/1/1']), len(bt_data.columns))) # (N * n)\n",
    "for col_index, col_name in tqdm(enumerate(bt_data.columns)):\n",
    "    dataloader = DataLoaderV01(bt_data[col_name])\n",
    "    for i in tqdm(range(len(dataloader))):\n",
    "        x, y = dataloader[i]\n",
    "        y = y.reshape(-1)\n",
    "        model = RandomForestRegressor(n_estimators=10,min_samples_split=2, random_state=42).fit(x, y)\n",
    "        signals[i, col_index] = model.predict(y.reshape(1, -1))\n",
    "signals = np.where(signals > 0, 1, -1)\n",
    "sharpe_ratio(actual_returns, signals)"
   ]
  },
  {
   "cell_type": "markdown",
   "id": "52e7c420-cdb6-4f3a-b3c2-5a518c8eca92",
   "metadata": {},
   "source": [
    "# Benchmark V0.5\n",
    "\n",
    "Boost ensembling"
   ]
  },
  {
   "cell_type": "code",
   "execution_count": 55,
   "id": "6360cdb5-45bc-485b-8faa-e80a0e7c4024",
   "metadata": {},
   "outputs": [],
   "source": [
    "# AdaBoost\n",
    "from sklearn.ensemble import AdaBoostRegressor"
   ]
  },
  {
   "cell_type": "code",
   "execution_count": 58,
   "id": "58930e5f-ed60-4c77-8752-23791e34034d",
   "metadata": {},
   "outputs": [
    {
     "data": {
      "application/vnd.jupyter.widget-view+json": {
       "model_id": "c5f46dd597a04383a18d25e3e4eef2fe",
       "version_major": 2,
       "version_minor": 0
      },
      "text/plain": [
       "0it [00:00, ?it/s]"
      ]
     },
     "metadata": {},
     "output_type": "display_data"
    },
    {
     "data": {
      "application/vnd.jupyter.widget-view+json": {
       "model_id": "53713bfe2a3345dfa380139c67576efb",
       "version_major": 2,
       "version_minor": 0
      },
      "text/plain": [
       "  0%|          | 0/1081 [00:00<?, ?it/s]"
      ]
     },
     "metadata": {},
     "output_type": "display_data"
    },
    {
     "data": {
      "application/vnd.jupyter.widget-view+json": {
       "model_id": "f44c6c37e5a041eaa51445a29c3b94f6",
       "version_major": 2,
       "version_minor": 0
      },
      "text/plain": [
       "  0%|          | 0/1081 [00:00<?, ?it/s]"
      ]
     },
     "metadata": {},
     "output_type": "display_data"
    },
    {
     "data": {
      "application/vnd.jupyter.widget-view+json": {
       "model_id": "b965148ad58847539e435f9437e57139",
       "version_major": 2,
       "version_minor": 0
      },
      "text/plain": [
       "  0%|          | 0/1081 [00:00<?, ?it/s]"
      ]
     },
     "metadata": {},
     "output_type": "display_data"
    },
    {
     "data": {
      "application/vnd.jupyter.widget-view+json": {
       "model_id": "34d65d0d89b6468aac56437b32a4dba1",
       "version_major": 2,
       "version_minor": 0
      },
      "text/plain": [
       "  0%|          | 0/1081 [00:00<?, ?it/s]"
      ]
     },
     "metadata": {},
     "output_type": "display_data"
    },
    {
     "data": {
      "application/vnd.jupyter.widget-view+json": {
       "model_id": "c1d497019f1a4a4285ed41284fcf9c56",
       "version_major": 2,
       "version_minor": 0
      },
      "text/plain": [
       "  0%|          | 0/1081 [00:00<?, ?it/s]"
      ]
     },
     "metadata": {},
     "output_type": "display_data"
    },
    {
     "data": {
      "application/vnd.jupyter.widget-view+json": {
       "model_id": "f7ad3480dc4a488bac122cc093b18e88",
       "version_major": 2,
       "version_minor": 0
      },
      "text/plain": [
       "  0%|          | 0/1081 [00:00<?, ?it/s]"
      ]
     },
     "metadata": {},
     "output_type": "display_data"
    },
    {
     "data": {
      "application/vnd.jupyter.widget-view+json": {
       "model_id": "cb40311f32b249568cad051d89fdcb4f",
       "version_major": 2,
       "version_minor": 0
      },
      "text/plain": [
       "  0%|          | 0/1081 [00:00<?, ?it/s]"
      ]
     },
     "metadata": {},
     "output_type": "display_data"
    },
    {
     "data": {
      "application/vnd.jupyter.widget-view+json": {
       "model_id": "dcaa909339744fc1a8a90eec2941b5cc",
       "version_major": 2,
       "version_minor": 0
      },
      "text/plain": [
       "  0%|          | 0/1081 [00:00<?, ?it/s]"
      ]
     },
     "metadata": {},
     "output_type": "display_data"
    },
    {
     "data": {
      "application/vnd.jupyter.widget-view+json": {
       "model_id": "65f429ea0f7d4dcaacac501137ae2b98",
       "version_major": 2,
       "version_minor": 0
      },
      "text/plain": [
       "  0%|          | 0/1081 [00:00<?, ?it/s]"
      ]
     },
     "metadata": {},
     "output_type": "display_data"
    },
    {
     "data": {
      "application/vnd.jupyter.widget-view+json": {
       "model_id": "b614f56b8ab64bb28d73115b8b0b4dbd",
       "version_major": 2,
       "version_minor": 0
      },
      "text/plain": [
       "  0%|          | 0/1081 [00:00<?, ?it/s]"
      ]
     },
     "metadata": {},
     "output_type": "display_data"
    },
    {
     "data": {
      "application/vnd.jupyter.widget-view+json": {
       "model_id": "6070b63d49ca4c73974511361a48105e",
       "version_major": 2,
       "version_minor": 0
      },
      "text/plain": [
       "  0%|          | 0/1081 [00:00<?, ?it/s]"
      ]
     },
     "metadata": {},
     "output_type": "display_data"
    },
    {
     "data": {
      "application/vnd.jupyter.widget-view+json": {
       "model_id": "b7876e7bc6414e1c886e8b4b22f1091c",
       "version_major": 2,
       "version_minor": 0
      },
      "text/plain": [
       "  0%|          | 0/1081 [00:00<?, ?it/s]"
      ]
     },
     "metadata": {},
     "output_type": "display_data"
    },
    {
     "data": {
      "application/vnd.jupyter.widget-view+json": {
       "model_id": "289e6446d27f43789e7984136db7cbfc",
       "version_major": 2,
       "version_minor": 0
      },
      "text/plain": [
       "  0%|          | 0/1081 [00:00<?, ?it/s]"
      ]
     },
     "metadata": {},
     "output_type": "display_data"
    },
    {
     "data": {
      "application/vnd.jupyter.widget-view+json": {
       "model_id": "48943f7301d54ede91a7efb158462b86",
       "version_major": 2,
       "version_minor": 0
      },
      "text/plain": [
       "  0%|          | 0/1081 [00:00<?, ?it/s]"
      ]
     },
     "metadata": {},
     "output_type": "display_data"
    },
    {
     "data": {
      "application/vnd.jupyter.widget-view+json": {
       "model_id": "6bdcb79aad7849e09aa05788189ab70c",
       "version_major": 2,
       "version_minor": 0
      },
      "text/plain": [
       "  0%|          | 0/1081 [00:00<?, ?it/s]"
      ]
     },
     "metadata": {},
     "output_type": "display_data"
    },
    {
     "data": {
      "text/plain": [
       "0.2367312974317425"
      ]
     },
     "execution_count": 58,
     "metadata": {},
     "output_type": "execute_result"
    }
   ],
   "source": [
    "# N days of n product\n",
    "signals = np.zeros((len(data[data['datetime'] >= '2017/1/1']), len(bt_data.columns))) # (N * n)\n",
    "for col_index, col_name in tqdm(enumerate(bt_data.columns)):\n",
    "    dataloader = DataLoaderV01(bt_data[col_name])\n",
    "    for i in tqdm(range(len(dataloader))):\n",
    "        x, y = dataloader[i]\n",
    "        y = y.reshape(-1)\n",
    "        model = AdaBoostRegressoraBoostRegressor(n_estimators=100).fit(x, y)\n",
    "        signals[i, col_index] = model.predict(y.reshape(1, -1))\n",
    "signals = np.where(signals > 0, 1, -1)\n",
    "sharpe_ratio(actual_returns, signals)"
   ]
  },
  {
   "cell_type": "code",
   "execution_count": 62,
   "id": "24fdf08f-dfef-44b2-9233-3465a745db62",
   "metadata": {},
   "outputs": [],
   "source": [
    "# GBDT\n",
    "from sklearn.ensemble import GradientBoostingRegressor"
   ]
  },
  {
   "cell_type": "code",
   "execution_count": 64,
   "id": "b6e46ad6-13bd-42e1-9669-cf3575b561f5",
   "metadata": {},
   "outputs": [
    {
     "data": {
      "application/vnd.jupyter.widget-view+json": {
       "model_id": "33a4f8a13be04a78a2974944bccb3691",
       "version_major": 2,
       "version_minor": 0
      },
      "text/plain": [
       "0it [00:00, ?it/s]"
      ]
     },
     "metadata": {},
     "output_type": "display_data"
    },
    {
     "data": {
      "application/vnd.jupyter.widget-view+json": {
       "model_id": "b002410323dc48aa8290029743910eae",
       "version_major": 2,
       "version_minor": 0
      },
      "text/plain": [
       "  0%|          | 0/1081 [00:00<?, ?it/s]"
      ]
     },
     "metadata": {},
     "output_type": "display_data"
    },
    {
     "data": {
      "application/vnd.jupyter.widget-view+json": {
       "model_id": "933d061eece848e880280d44d02ff899",
       "version_major": 2,
       "version_minor": 0
      },
      "text/plain": [
       "  0%|          | 0/1081 [00:00<?, ?it/s]"
      ]
     },
     "metadata": {},
     "output_type": "display_data"
    },
    {
     "data": {
      "application/vnd.jupyter.widget-view+json": {
       "model_id": "7b89812de9d84fd8a7f4547d98da5ae2",
       "version_major": 2,
       "version_minor": 0
      },
      "text/plain": [
       "  0%|          | 0/1081 [00:00<?, ?it/s]"
      ]
     },
     "metadata": {},
     "output_type": "display_data"
    },
    {
     "data": {
      "application/vnd.jupyter.widget-view+json": {
       "model_id": "66e97f1236be4da38a607b71ccf0aea7",
       "version_major": 2,
       "version_minor": 0
      },
      "text/plain": [
       "  0%|          | 0/1081 [00:00<?, ?it/s]"
      ]
     },
     "metadata": {},
     "output_type": "display_data"
    },
    {
     "data": {
      "application/vnd.jupyter.widget-view+json": {
       "model_id": "2cb3e776a60b42b3b646098c8eed298f",
       "version_major": 2,
       "version_minor": 0
      },
      "text/plain": [
       "  0%|          | 0/1081 [00:00<?, ?it/s]"
      ]
     },
     "metadata": {},
     "output_type": "display_data"
    },
    {
     "data": {
      "application/vnd.jupyter.widget-view+json": {
       "model_id": "31c39e029efd4e278aefe855b24f43a0",
       "version_major": 2,
       "version_minor": 0
      },
      "text/plain": [
       "  0%|          | 0/1081 [00:00<?, ?it/s]"
      ]
     },
     "metadata": {},
     "output_type": "display_data"
    },
    {
     "data": {
      "application/vnd.jupyter.widget-view+json": {
       "model_id": "dbdef9400f104532817bd9508e820fe9",
       "version_major": 2,
       "version_minor": 0
      },
      "text/plain": [
       "  0%|          | 0/1081 [00:00<?, ?it/s]"
      ]
     },
     "metadata": {},
     "output_type": "display_data"
    },
    {
     "data": {
      "application/vnd.jupyter.widget-view+json": {
       "model_id": "2f379d9d5966486b8d9c2b5fdb946ab3",
       "version_major": 2,
       "version_minor": 0
      },
      "text/plain": [
       "  0%|          | 0/1081 [00:00<?, ?it/s]"
      ]
     },
     "metadata": {},
     "output_type": "display_data"
    },
    {
     "data": {
      "application/vnd.jupyter.widget-view+json": {
       "model_id": "3a0903cbc03a4ee4b4b66edaca5a369a",
       "version_major": 2,
       "version_minor": 0
      },
      "text/plain": [
       "  0%|          | 0/1081 [00:00<?, ?it/s]"
      ]
     },
     "metadata": {},
     "output_type": "display_data"
    },
    {
     "data": {
      "application/vnd.jupyter.widget-view+json": {
       "model_id": "99047dd04b484d2ebeb027f7a31dff5e",
       "version_major": 2,
       "version_minor": 0
      },
      "text/plain": [
       "  0%|          | 0/1081 [00:00<?, ?it/s]"
      ]
     },
     "metadata": {},
     "output_type": "display_data"
    },
    {
     "data": {
      "application/vnd.jupyter.widget-view+json": {
       "model_id": "0148dfd05311430dbb24ed8edcecc5f6",
       "version_major": 2,
       "version_minor": 0
      },
      "text/plain": [
       "  0%|          | 0/1081 [00:00<?, ?it/s]"
      ]
     },
     "metadata": {},
     "output_type": "display_data"
    },
    {
     "data": {
      "application/vnd.jupyter.widget-view+json": {
       "model_id": "83841832d54c4cfaa108aa58ac5a5700",
       "version_major": 2,
       "version_minor": 0
      },
      "text/plain": [
       "  0%|          | 0/1081 [00:00<?, ?it/s]"
      ]
     },
     "metadata": {},
     "output_type": "display_data"
    },
    {
     "data": {
      "application/vnd.jupyter.widget-view+json": {
       "model_id": "a79e735a0b184be48e50a36540282107",
       "version_major": 2,
       "version_minor": 0
      },
      "text/plain": [
       "  0%|          | 0/1081 [00:00<?, ?it/s]"
      ]
     },
     "metadata": {},
     "output_type": "display_data"
    },
    {
     "data": {
      "application/vnd.jupyter.widget-view+json": {
       "model_id": "d12c1cd00bc9418d82c73e25ffbad959",
       "version_major": 2,
       "version_minor": 0
      },
      "text/plain": [
       "  0%|          | 0/1081 [00:00<?, ?it/s]"
      ]
     },
     "metadata": {},
     "output_type": "display_data"
    },
    {
     "data": {
      "application/vnd.jupyter.widget-view+json": {
       "model_id": "3b78de059b7e451690842f25b8962ab8",
       "version_major": 2,
       "version_minor": 0
      },
      "text/plain": [
       "  0%|          | 0/1081 [00:00<?, ?it/s]"
      ]
     },
     "metadata": {},
     "output_type": "display_data"
    },
    {
     "data": {
      "text/plain": [
       "0.2162605592313032"
      ]
     },
     "execution_count": 64,
     "metadata": {},
     "output_type": "execute_result"
    }
   ],
   "source": [
    "# N days of n product\n",
    "signals = np.zeros((len(data[data['datetime'] >= '2017/1/1']), len(bt_data.columns))) # (N * n)\n",
    "for col_index, col_name in tqdm(enumerate(bt_data.columns)):\n",
    "    dataloader = DataLoaderV01(bt_data[col_name])\n",
    "    for i in tqdm(range(len(dataloader))):\n",
    "        x, y = dataloader[i]\n",
    "        y = y.reshape(-1)\n",
    "        model = GradientBoostingRegressor(n_estimators=100, learning_rate=1., random_state=42).fit(x, y)\n",
    "        signals[i, col_index] = model.predict(y.reshape(1, -1))\n",
    "signals = np.where(signals > 0, 1, -1)\n",
    "sharpe_ratio(actual_returns, signals)"
   ]
  },
  {
   "cell_type": "code",
   "execution_count": 66,
   "id": "2dfec0c7-ae16-4107-bed3-0d8ae0d31103",
   "metadata": {},
   "outputs": [],
   "source": [
    "# xgboost\n",
    "from xgboost import XGBRegressor"
   ]
  },
  {
   "cell_type": "code",
   "execution_count": 67,
   "id": "dea5b4ba-d0dd-4992-88a0-8ab34e732caf",
   "metadata": {},
   "outputs": [
    {
     "data": {
      "application/vnd.jupyter.widget-view+json": {
       "model_id": "552b2838d43e400bb432250893884f4b",
       "version_major": 2,
       "version_minor": 0
      },
      "text/plain": [
       "0it [00:00, ?it/s]"
      ]
     },
     "metadata": {},
     "output_type": "display_data"
    },
    {
     "data": {
      "application/vnd.jupyter.widget-view+json": {
       "model_id": "b1ff1133f24f439d9c30e138cc554c80",
       "version_major": 2,
       "version_minor": 0
      },
      "text/plain": [
       "  0%|          | 0/1081 [00:00<?, ?it/s]"
      ]
     },
     "metadata": {},
     "output_type": "display_data"
    },
    {
     "data": {
      "application/vnd.jupyter.widget-view+json": {
       "model_id": "dbd40693c8ca49a7a8a018968cdc78d0",
       "version_major": 2,
       "version_minor": 0
      },
      "text/plain": [
       "  0%|          | 0/1081 [00:00<?, ?it/s]"
      ]
     },
     "metadata": {},
     "output_type": "display_data"
    },
    {
     "data": {
      "application/vnd.jupyter.widget-view+json": {
       "model_id": "3727da93dac04aeeaf55a85038dbf6c5",
       "version_major": 2,
       "version_minor": 0
      },
      "text/plain": [
       "  0%|          | 0/1081 [00:00<?, ?it/s]"
      ]
     },
     "metadata": {},
     "output_type": "display_data"
    },
    {
     "data": {
      "application/vnd.jupyter.widget-view+json": {
       "model_id": "9253ac79bf814470b62589921b329f6c",
       "version_major": 2,
       "version_minor": 0
      },
      "text/plain": [
       "  0%|          | 0/1081 [00:00<?, ?it/s]"
      ]
     },
     "metadata": {},
     "output_type": "display_data"
    },
    {
     "data": {
      "application/vnd.jupyter.widget-view+json": {
       "model_id": "d25f9394c4f84802845f8064a897d2c7",
       "version_major": 2,
       "version_minor": 0
      },
      "text/plain": [
       "  0%|          | 0/1081 [00:00<?, ?it/s]"
      ]
     },
     "metadata": {},
     "output_type": "display_data"
    },
    {
     "data": {
      "application/vnd.jupyter.widget-view+json": {
       "model_id": "ec390e18ca7944218cb049d04911fe21",
       "version_major": 2,
       "version_minor": 0
      },
      "text/plain": [
       "  0%|          | 0/1081 [00:00<?, ?it/s]"
      ]
     },
     "metadata": {},
     "output_type": "display_data"
    },
    {
     "data": {
      "application/vnd.jupyter.widget-view+json": {
       "model_id": "6bd13d21dae8419984d6287a0b6d3cf8",
       "version_major": 2,
       "version_minor": 0
      },
      "text/plain": [
       "  0%|          | 0/1081 [00:00<?, ?it/s]"
      ]
     },
     "metadata": {},
     "output_type": "display_data"
    },
    {
     "data": {
      "application/vnd.jupyter.widget-view+json": {
       "model_id": "11fe0a7e1c13482b893d343914eabf41",
       "version_major": 2,
       "version_minor": 0
      },
      "text/plain": [
       "  0%|          | 0/1081 [00:00<?, ?it/s]"
      ]
     },
     "metadata": {},
     "output_type": "display_data"
    },
    {
     "data": {
      "application/vnd.jupyter.widget-view+json": {
       "model_id": "dc9718d82edd4099adc99e8e03db70d1",
       "version_major": 2,
       "version_minor": 0
      },
      "text/plain": [
       "  0%|          | 0/1081 [00:00<?, ?it/s]"
      ]
     },
     "metadata": {},
     "output_type": "display_data"
    },
    {
     "data": {
      "application/vnd.jupyter.widget-view+json": {
       "model_id": "0eb426a1066c4f85a1910762646819a6",
       "version_major": 2,
       "version_minor": 0
      },
      "text/plain": [
       "  0%|          | 0/1081 [00:00<?, ?it/s]"
      ]
     },
     "metadata": {},
     "output_type": "display_data"
    },
    {
     "data": {
      "application/vnd.jupyter.widget-view+json": {
       "model_id": "4b035b0b68464cb6b0389b32c5d4e76d",
       "version_major": 2,
       "version_minor": 0
      },
      "text/plain": [
       "  0%|          | 0/1081 [00:00<?, ?it/s]"
      ]
     },
     "metadata": {},
     "output_type": "display_data"
    },
    {
     "data": {
      "application/vnd.jupyter.widget-view+json": {
       "model_id": "31cd9e7e351148c99ea801daa4996b58",
       "version_major": 2,
       "version_minor": 0
      },
      "text/plain": [
       "  0%|          | 0/1081 [00:00<?, ?it/s]"
      ]
     },
     "metadata": {},
     "output_type": "display_data"
    },
    {
     "data": {
      "application/vnd.jupyter.widget-view+json": {
       "model_id": "440113b7c1c24bb5b6ffe2eda54ffd29",
       "version_major": 2,
       "version_minor": 0
      },
      "text/plain": [
       "  0%|          | 0/1081 [00:00<?, ?it/s]"
      ]
     },
     "metadata": {},
     "output_type": "display_data"
    },
    {
     "data": {
      "application/vnd.jupyter.widget-view+json": {
       "model_id": "0366c004fed34a49baab3cc309bfce9d",
       "version_major": 2,
       "version_minor": 0
      },
      "text/plain": [
       "  0%|          | 0/1081 [00:00<?, ?it/s]"
      ]
     },
     "metadata": {},
     "output_type": "display_data"
    },
    {
     "data": {
      "application/vnd.jupyter.widget-view+json": {
       "model_id": "828a253a91db4c069f546590eee38c64",
       "version_major": 2,
       "version_minor": 0
      },
      "text/plain": [
       "  0%|          | 0/1081 [00:00<?, ?it/s]"
      ]
     },
     "metadata": {},
     "output_type": "display_data"
    },
    {
     "data": {
      "text/plain": [
       "0.7798333564104206"
      ]
     },
     "execution_count": 67,
     "metadata": {},
     "output_type": "execute_result"
    }
   ],
   "source": [
    "# N days of n product\n",
    "signals = np.zeros((len(data[data['datetime'] >= '2017/1/1']), len(bt_data.columns))) # (N * n)\n",
    "for col_index, col_name in tqdm(enumerate(bt_data.columns)):\n",
    "    dataloader = DataLoaderV01(bt_data[col_name])\n",
    "    for i in tqdm(range(len(dataloader))):\n",
    "        x, y = dataloader[i]\n",
    "        y = y.reshape(-1)\n",
    "        model = XGBRegressor(n_estimators=100, random_state=42).fit(x, y)\n",
    "        signals[i, col_index] = model.predict(y.reshape(1, -1))\n",
    "signals = np.where(signals > 0, 1, -1)\n",
    "sharpe_ratio(actual_returns, signals)"
   ]
  },
  {
   "cell_type": "markdown",
   "id": "02824b2b-b047-4cc2-b333-e035d15fbf65",
   "metadata": {},
   "source": [
    "# Benchmark V0.6\n",
    "\n",
    "Deep Learning"
   ]
  },
  {
   "cell_type": "code",
   "execution_count": null,
   "id": "096cf7e5-6c23-45cd-bb16-7464e57028d0",
   "metadata": {},
   "outputs": [],
   "source": [
    "# MLP"
   ]
  },
  {
   "cell_type": "code",
   "execution_count": 75,
   "id": "3f22e370-0672-4675-90f7-c8e7bb3fd4d7",
   "metadata": {},
   "outputs": [],
   "source": [
    "class MLP(torch.nn.Module):\n",
    "    \n",
    "    def __init__(self):\n",
    "        super().__init__()\n",
    "        self.input = torch.nn.Linear(in_features=10, out_features=32)\n",
    "        self.fc = torch.nn.Linear(in_features=32, out_features=10)\n",
    "        self.out = torch.nn.Linear(in_features=10, out_features=1)\n",
    "    \n",
    "    def forward(self, x):\n",
    "        x = self.input(x)\n",
    "        x = torch.sigmoid(x)\n",
    "        x = self.fc(x)\n",
    "        x = torch.sigmoid(x)\n",
    "        x = self.out(x)\n",
    "        return x"
   ]
  },
  {
   "cell_type": "code",
   "execution_count": 94,
   "id": "c92cb892-cfac-4acc-8844-edb794863381",
   "metadata": {},
   "outputs": [],
   "source": [
    "class DatasetDL(torch.utils.data.Dataset):\n",
    "    \n",
    "    def __init__(self, data_series, feature_size=10):\n",
    "        x = torch.Tensor(data_series.iloc[:-1].to_numpy().reshape(-1,1)).to('cuda')\n",
    "        self.y = torch.Tensor(data_series.iloc[feature_size:].to_numpy().reshape(-1,1)).to('cuda')\n",
    "        self.feature_size = feature_size\n",
    "        \n",
    "        self.x = torch.zeros((len(self.y), self.feature_size)).to('cuda')\n",
    "        for i in range(len(self.y)):\n",
    "            self.x[i] = x[i :i+self.feature_size].T\n",
    "        \n",
    "    def __len__(self):\n",
    "        return len(self.y)\n",
    "    \n",
    "    def __getitem__(self, index):\n",
    "        return self.x[index], self.y[index]"
   ]
  },
  {
   "cell_type": "code",
   "execution_count": 81,
   "id": "6c0760eb-02af-4e21-a9f7-d3998f6d5940",
   "metadata": {},
   "outputs": [],
   "source": [
    "training_df = data.iloc[:bt_begin_at,1:]\n",
    "bt_df = data.iloc[bt_begin_at-10:, 1:]"
   ]
  },
  {
   "cell_type": "code",
   "execution_count": 117,
   "id": "ef4cf804-e8cf-4412-b207-db34ff2ada1d",
   "metadata": {},
   "outputs": [
    {
     "data": {
      "application/vnd.jupyter.widget-view+json": {
       "model_id": "f867819e58ad49fa98a3ef99ce57985b",
       "version_major": 2,
       "version_minor": 0
      },
      "text/plain": [
       "  0%|          | 0/15 [00:00<?, ?it/s]"
      ]
     },
     "metadata": {},
     "output_type": "display_data"
    },
    {
     "data": {
      "text/plain": [
       "0.3689484575939914"
      ]
     },
     "execution_count": 117,
     "metadata": {},
     "output_type": "execute_result"
    }
   ],
   "source": [
    "signals = np.zeros((len(data[data['datetime'] >= '2017/1/1']), len(bt_data.columns))) # (N * n)\n",
    "for col_index in tqdm(range(len(bt_data.columns))):\n",
    "    col_name = bt_data.columns[col_index]\n",
    "    trainloader = torch.utils.data.DataLoader(DatasetDL(training_df[col_name]), batch_size=32)\n",
    "    testloader = torch.utils.data.DataLoader(DatasetDL(bt_df[col_name]), batch_size=32)\n",
    "    \n",
    "    model = MLP().to(\"cuda\")\n",
    "    \n",
    "    optimizer = torch.optim.SGD(model.parameters(), lr=1e-2)\n",
    "    lossfunc = torch.nn.MSELoss()\n",
    "    \n",
    "    # for e in tqdm(range(10)):\n",
    "    for e in range(100):\n",
    "        epoch_loss = []\n",
    "        # for x, y in tqdm(trainloader):\n",
    "        for x, y in trainloader:\n",
    "            optimizer.zero_grad()\n",
    "            yhat = model(x)\n",
    "            loss = lossfunc(y, yhat)\n",
    "            loss.backward()\n",
    "            optimizer.step()\n",
    "            epoch_loss.append(torch.mean(loss).item())\n",
    "        # print(f\"epoch{e}, trainloss={np.mean(epoch_loss)}\", end=\"\")\n",
    "        epoch_test_loss = []\n",
    "        # for x, y in tqdm(testloader):\n",
    "        for x, y in testloader:\n",
    "            yhat = model(x)\n",
    "            loss = lossfunc(y, yhat)\n",
    "            epoch_test_loss.append(torch.mean(loss).item())\n",
    "        # print(f\"test loss={np.mean(epoch_test_loss)}\")\n",
    "    \n",
    "    col_signals = []\n",
    "    # for x, _ in tqdm(testloader):\n",
    "    for x, _ in testloader:\n",
    "        yhat = model(x)\n",
    "        col_signals.append(yhat.to('cpu').detach().numpy())\n",
    "    signals[...,col_index] = np.vstack(col_signals).reshape(-1)\n",
    "signals = np.where(signals > 0, 1, -1)\n",
    "sharpe_ratio(actual_returns, signals)"
   ]
  },
  {
   "cell_type": "code",
   "execution_count": null,
   "id": "3a17aa40-4abf-4150-8392-62d85edd956c",
   "metadata": {},
   "outputs": [],
   "source": [
    "# cnn"
   ]
  }
 ],
 "metadata": {
  "kernelspec": {
   "display_name": "Python 3 (ipykernel)",
   "language": "python",
   "name": "python3"
  },
  "language_info": {
   "codemirror_mode": {
    "name": "ipython",
    "version": 3
   },
   "file_extension": ".py",
   "mimetype": "text/x-python",
   "name": "python",
   "nbconvert_exporter": "python",
   "pygments_lexer": "ipython3",
   "version": "3.9.13"
  }
 },
 "nbformat": 4,
 "nbformat_minor": 5
}
